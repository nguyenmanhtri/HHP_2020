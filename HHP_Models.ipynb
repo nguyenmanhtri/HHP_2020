{
  "nbformat": 4,
  "nbformat_minor": 0,
  "metadata": {
    "colab": {
      "name": "HHP Models",
      "provenance": [],
      "collapsed_sections": []
    },
    "kernelspec": {
      "name": "python3",
      "display_name": "Python 3"
    }
  },
  "cells": [
    {
      "cell_type": "code",
      "metadata": {
        "id": "BSTB3-MUf8GO"
      },
      "source": [
        "import pandas as pd\r\n",
        "import numpy as np\r\n",
        "import random\r\n",
        "\r\n",
        "from sklearn.model_selection import train_test_split\r\n",
        "from sklearn.model_selection import cross_validate\r\n",
        "from sklearn.model_selection import cross_val_score\r\n",
        "from sklearn.model_selection import RepeatedKFold\r\n",
        "from sklearn.model_selection import GridSearchCV\r\n",
        "from sklearn.model_selection import RandomizedSearchCV\r\n",
        "from sklearn.preprocessing import MinMaxScaler, StandardScaler\r\n",
        "\r\n",
        "from xgboost import XGBRegressor\r\n",
        "from sklearn.ensemble import RandomForestRegressor\r\n",
        "from sklearn.linear_model import LinearRegression\r\n",
        "from sklearn.linear_model import Ridge\r\n",
        "from sklearn.linear_model import Lasso\r\n",
        "from sklearn.svm import LinearSVR\r\n",
        "from sklearn.linear_model import SGDRegressor"
      ],
      "execution_count": null,
      "outputs": []
    },
    {
      "cell_type": "code",
      "metadata": {
        "id": "4UlW9gDAg4pm"
      },
      "source": [
        "from sklearn.metrics import make_scorer\r\n",
        "\r\n",
        "# function to calculate Root Mean Squared Logarithmic Error (RMSLE)\r\n",
        "def Root_MSLE(truth, prediction):\r\n",
        "  # prediction = prediction.clip(min=0)\r\n",
        "  # prediction = prediction.clip(max=15)\r\n",
        "\r\n",
        "  msle = np.mean((np.log(truth + 1) - np.log(prediction + 1)) ** 2)\r\n",
        "  return np.sqrt(msle)\r\n",
        "\r\n",
        "rmsle = make_scorer(Root_MSLE, greater_is_better=False)"
      ],
      "execution_count": null,
      "outputs": []
    },
    {
      "cell_type": "markdown",
      "metadata": {
        "id": "LuLUFD_9hhWn"
      },
      "source": [
        "# Baseline model"
      ]
    },
    {
      "cell_type": "code",
      "metadata": {
        "id": "ggHlmZ6QEAqt"
      },
      "source": [
        "df = pd.read_csv(r\"/content/drive/MyDrive/Colab Notebooks/heritage health prize/final_data.csv\")\r\n",
        "\r\n",
        "data = df[df['Year']=='Y1'].copy()\r\n",
        "data_test = df[df['Year']=='Y2'].copy()"
      ],
      "execution_count": null,
      "outputs": []
    },
    {
      "cell_type": "code",
      "metadata": {
        "id": "GGK1KMQTbFV2"
      },
      "source": [
        "# len(data.index)"
      ],
      "execution_count": null,
      "outputs": []
    },
    {
      "cell_type": "code",
      "metadata": {
        "id": "DpxfpXZXEQUO"
      },
      "source": [
        "# exclude some definition features from our training set\r\n",
        "features_to_drop = ('MemberID', 'DaysInHospital', 'Year', 'trainset', 'in_hospital')\r\n",
        "features = [i for i in data.columns if i not in features_to_drop]\r\n",
        "\r\n",
        "X_train = data[features]\r\n",
        "y_train = data['DaysInHospital']\r\n",
        "\r\n",
        "X_test = data_test[features]\r\n",
        "y_test = data_test['DaysInHospital']\r\n",
        "\r\n",
        "scaler = StandardScaler()\r\n",
        "X_train = scaler.fit_transform(X_train)\r\n",
        "X_test = scaler.fit_transform(X_test)"
      ],
      "execution_count": null,
      "outputs": []
    },
    {
      "cell_type": "code",
      "metadata": {
        "id": "nCAgMP8CQ1yL",
        "colab": {
          "base_uri": "https://localhost:8080/"
        },
        "outputId": "7f134609-0a2c-4d9c-e730-ac1eabf3527a"
      },
      "source": [
        "# run model without cross validation\r\n",
        "def model_evaluation(model, train_feature=X_train, train_target=y_train, test_feature=X_test, test_target=y_test):\r\n",
        "  model.fit(train_feature, train_target)\r\n",
        "  prediction = model.predict(test_feature)\r\n",
        "  prediction = prediction.clip(min=0)\r\n",
        "  prediction = prediction.clip(max=15)\r\n",
        "  return Root_MSLE(test_target, prediction)\r\n",
        "\r\n",
        "# declaring models\r\n",
        "xgb_reg = XGBRegressor(objective='reg:squarederror', verbosity=1)\r\n",
        "lin_reg = LinearRegression()\r\n",
        "ridge_reg = Ridge()\r\n",
        "lasso_reg = Lasso()\r\n",
        "rf_reg = RandomForestRegressor(max_depth=10)\r\n",
        "lin_sv_reg = LinearSVR(max_iter=1000, random_state=42)\r\n",
        "sgd_reg = SGDRegressor(early_stopping=True, random_state=42)\r\n",
        "\r\n",
        "print(\"Model Performance with Default Hyper Parameter Settings\")\r\n",
        "print(f\"RMSLE from Gradient Boosting Machines: {model_evaluation(xgb_reg):.4f}\")\r\n",
        "print(f\"RMSLE from Linear Regression: {model_evaluation(lin_reg):.4f}\")\r\n",
        "print(f\"RMSLE from Ridge Regression: {model_evaluation(ridge_reg):.4f}\")\r\n",
        "print(f\"RMSLE from Lasso Regression: {model_evaluation(lasso_reg):.4f}\")\r\n",
        "print(f\"RMSLE from Random Forest Regression: {model_evaluation(rf_reg):.4f}\")\r\n",
        "print(f\"RMSLE from Linear Support Vector Regression: {model_evaluation(lin_sv_reg):.4f}\")\r\n",
        "print(f\"RMSLE from SGD Regression: {model_evaluation(sgd_reg):.4f}\")"
      ],
      "execution_count": null,
      "outputs": [
        {
          "output_type": "stream",
          "text": [
            "Model Performance with Default Hyper Parameter Settings\n",
            "RMSLE from Gradient Boosting Machines: 0.4935\n",
            "RMSLE from Linear Regression: 1.6554\n",
            "RMSLE from Ridge Regression: 0.4999\n",
            "RMSLE from Lasso Regression: 0.5165\n",
            "RMSLE from Random Forest Regression: 0.4956\n"
          ],
          "name": "stdout"
        },
        {
          "output_type": "stream",
          "text": [
            "/usr/local/lib/python3.6/dist-packages/sklearn/svm/_base.py:947: ConvergenceWarning: Liblinear failed to converge, increase the number of iterations.\n",
            "  \"the number of iterations.\", ConvergenceWarning)\n"
          ],
          "name": "stderr"
        },
        {
          "output_type": "stream",
          "text": [
            "RMSLE from Linear Support Vector Regression: 0.5038\n",
            "RMSLE from SGD Regression: 0.5344\n"
          ],
          "name": "stdout"
        }
      ]
    },
    {
      "cell_type": "markdown",
      "metadata": {
        "id": "E5m9ZkQZ6Ypt"
      },
      "source": [
        "$\\rightarrow$ Select *GBM, Ridge Regression, Random Forest Regression* for our ensemble"
      ]
    },
    {
      "cell_type": "markdown",
      "metadata": {
        "id": "RNqCiPC2KxnD"
      },
      "source": [
        "## Hyper parameter tuning"
      ]
    },
    {
      "cell_type": "markdown",
      "metadata": {
        "id": "peBMOSqQ7NTQ"
      },
      "source": [
        "$\\rightarrow$ Use `RandomSearchCV` to find the top 20 performing set of hyper parameters"
      ]
    },
    {
      "cell_type": "code",
      "metadata": {
        "id": "O3tRRs1IKtkZ",
        "colab": {
          "base_uri": "https://localhost:8080/"
        },
        "outputId": "4207e3b0-a0ee-466e-f00c-750d1106a8f9"
      },
      "source": [
        "# xgb_reg = XGBRegressor(objective='reg:squarederror', subsample=0.3\r\n",
        "#                       , colsample_bylevel=.3, colsample_bynode=.3, colsample_bytree=0.3\r\n",
        "#                       , learning_rate=.01, max_depth=10, reg_lambda=40, n_estimators=500)\r\n",
        "\r\n",
        "# model_evaluation(xgb_reg)"
      ],
      "execution_count": null,
      "outputs": [
        {
          "output_type": "execute_result",
          "data": {
            "text/plain": [
              "0.49058832266132385"
            ]
          },
          "metadata": {
            "tags": []
          },
          "execution_count": 11
        }
      ]
    },
    {
      "cell_type": "markdown",
      "metadata": {
        "id": "0FtSMceJAZ0H"
      },
      "source": [
        "Due to computational limitation, `RandomSearchCV` or `GridSearchCV` are not performing in a reasonable amount of time. Therefore, I opt to go with another approach.\r\n",
        "\r\n",
        "Take 20 random combinations of the hyper parameters and build models based on these combinations, which makes 40 total models for *XGBoost* and *Random Forest*. Next, choose the top 20 best models from these for the final ensemble."
      ]
    },
    {
      "cell_type": "code",
      "metadata": {
        "colab": {
          "base_uri": "https://localhost:8080/"
        },
        "id": "baCTPBHmKDAS",
        "outputId": "042360be-9ef7-4c4f-de83-ce6f3231d1db"
      },
      "source": [
        "# make parameter combinations for XGBoost\r\n",
        "xgb_params_keys = [\r\n",
        "                   'objective', 'subsample', 'colsample_bylevel', 'colsample_bynode',\r\n",
        "                   'colsample_bytree', 'learning_rate', 'max_depth', 'reg_lambda', 'n_estimators'\r\n",
        "]\r\n",
        "\r\n",
        "xgb_params_values = [\r\n",
        "    ['reg:squarederror']\r\n",
        "    , np.arange(0.1, 1.1, .1)\r\n",
        "    , np.arange(0.1, 1.1, .1)\r\n",
        "    , np.arange(0.1, 1.1, .1)\r\n",
        "    , np.arange(0.1, 1.1, .1)\r\n",
        "    , [0.0001, 0.001, 0.01, 0.1]\r\n",
        "    , [3, 5, 7, 10]\r\n",
        "    , [40]\r\n",
        "    , [50, 100, 150, 200, 500, 1000]\r\n",
        "]\r\n",
        "\r\n",
        "xgb_params_grid = {}\r\n",
        "for i in range(20):\r\n",
        "  new_random_xgb_params_values = []\r\n",
        "  for j in range(len(xgb_params_values)):\r\n",
        "    new_random_xgb_params_values.append(random.choice(xgb_params_values[j]))\r\n",
        "  \r\n",
        "  xgb_params_grid['xgb set {}'.format(i)] = dict(zip(xgb_params_keys, new_random_xgb_params_values))\r\n",
        "\r\n",
        "# save the results in a dictionary\r\n",
        "xgb_model_eval = {}\r\n",
        "xgb_ypred = {}\r\n",
        "print(\"Hyper parameter tuning for Boosting Machines:\\n\")\r\n",
        "for k in xgb_params_grid.keys():\r\n",
        "  xgb_reg = XGBRegressor(**xgb_params_grid[k])\r\n",
        "  xgb_reg.fit(X_train, y_train)\r\n",
        "  y_pred = xgb_reg.predict(X_test)\r\n",
        "\r\n",
        "  score = Root_MSLE(y_test, y_pred)\r\n",
        "  xgb_ypred[k] = y_pred\r\n",
        "\r\n",
        "  xgb_model_eval[k] = score\r\n",
        "  \r\n",
        "  print('RMSLE for {} is {}'.format(k, score))\r\n",
        "\r\n",
        "  # break"
      ],
      "execution_count": null,
      "outputs": [
        {
          "output_type": "stream",
          "text": [
            "Hyper parameter tuning for Boosting Machines:\n",
            "\n",
            "RMSLE for xgb set 0 is 0.49250420223013996\n",
            "RMSLE for xgb set 1 is 0.5062484856638836\n",
            "RMSLE for xgb set 2 is 0.5168341324780346\n",
            "RMSLE for xgb set 3 is 0.49189251000022227\n",
            "RMSLE for xgb set 4 is 0.5254492703423684\n",
            "RMSLE for xgb set 5 is 0.5164247713927206\n",
            "RMSLE for xgb set 6 is 0.4949305951880867\n",
            "RMSLE for xgb set 7 is 0.5255140215716714\n",
            "RMSLE for xgb set 8 is 0.5228427809638113\n",
            "RMSLE for xgb set 9 is 0.49378651429140424\n",
            "RMSLE for xgb set 10 is 0.48744855020788147\n",
            "RMSLE for xgb set 11 is 0.5187923410793401\n",
            "RMSLE for xgb set 12 is 0.5003189000750741\n",
            "RMSLE for xgb set 13 is 0.49167472287391617\n",
            "RMSLE for xgb set 14 is 0.5186495324230135\n",
            "RMSLE for xgb set 15 is 0.494113976854677\n",
            "RMSLE for xgb set 16 is 0.518746516992188\n",
            "RMSLE for xgb set 17 is 0.4918391989874137\n",
            "RMSLE for xgb set 18 is 0.48954202011720727\n",
            "RMSLE for xgb set 19 is 0.4907883346903613\n"
          ],
          "name": "stdout"
        }
      ]
    },
    {
      "cell_type": "code",
      "metadata": {
        "id": "uLeroUUoboCL"
      },
      "source": [
        "# xgb_ypred\r\n",
        "# len(X_test.index)\r\n",
        "# X_test[0]"
      ],
      "execution_count": null,
      "outputs": []
    },
    {
      "cell_type": "code",
      "metadata": {
        "colab": {
          "base_uri": "https://localhost:8080/"
        },
        "id": "0ZyluXtX75VM",
        "outputId": "0f407d31-4b05-438b-9658-a4d87d820e17"
      },
      "source": [
        "# make combinations for Random Forest\r\n",
        "rf_params_keys = ['n_estimators', 'max_depth', 'max_samples', 'max_features']\r\n",
        "\r\n",
        "rf_params_values = [\r\n",
        "  [50, 100, 150, 200]\r\n",
        "  , [3, 5, 7, 10]\r\n",
        "  , [.1, .2, .3, .4, .5, .6, .7, .8, .9]\r\n",
        "  , [.1, .2, .3, .4, .5, .6, .7, .8, .9]\r\n",
        "]\r\n",
        "\r\n",
        "rf_params_grid = {}\r\n",
        "for i in range(20):\r\n",
        "  new_random_rf_params_values = []\r\n",
        "  for j in range(len(rf_params_values)):\r\n",
        "    new_random_rf_params_values.append(random.choice(rf_params_values[j]))\r\n",
        "  \r\n",
        "  rf_params_grid['rf set {}'.format(i)] = dict(zip(rf_params_keys, new_random_rf_params_values))\r\n",
        "\r\n",
        "# save the results in a dictionary\r\n",
        "rf_model_eval = {}\r\n",
        "rf_ypred = {}\r\n",
        "print(\"Hyper parameter tuning for Random Forest:\\n\")\r\n",
        "for k in rf_params_grid.keys():\r\n",
        "  rf_reg = RandomForestRegressor(**rf_params_grid[k])\r\n",
        "  rf_reg.fit(X_train, y_train)\r\n",
        "  y_pred = rf_reg.predict(X_test)\r\n",
        "\r\n",
        "  score = Root_MSLE(y_test, y_pred)\r\n",
        "\r\n",
        "  rf_ypred[k] = y_pred\r\n",
        "  rf_model_eval[k] = score\r\n",
        "  \r\n",
        "  print('RMSLE for {} is {}'.format(k, score))"
      ],
      "execution_count": null,
      "outputs": [
        {
          "output_type": "stream",
          "text": [
            "Hyper parameter tuning for Random Forest:\n",
            "\n",
            "RMSLE for rf set 0 is 0.4943691431306355\n",
            "RMSLE for rf set 1 is 0.49372439164143955\n",
            "RMSLE for rf set 2 is 0.49421575724347877\n",
            "RMSLE for rf set 3 is 0.4980308002118516\n",
            "RMSLE for rf set 4 is 0.49322779711552417\n",
            "RMSLE for rf set 5 is 0.4946372965949316\n",
            "RMSLE for rf set 6 is 0.4962381642828274\n",
            "RMSLE for rf set 7 is 0.49602748637360294\n",
            "RMSLE for rf set 8 is 0.49456739295506796\n",
            "RMSLE for rf set 9 is 0.4951205473589937\n",
            "RMSLE for rf set 10 is 0.49577354331789136\n",
            "RMSLE for rf set 11 is 0.4941598883175722\n",
            "RMSLE for rf set 12 is 0.4981728092124775\n",
            "RMSLE for rf set 13 is 0.4942813551012194\n",
            "RMSLE for rf set 14 is 0.4945190420479539\n",
            "RMSLE for rf set 15 is 0.49482953773481725\n",
            "RMSLE for rf set 16 is 0.496654209084486\n",
            "RMSLE for rf set 17 is 0.4964479646417893\n",
            "RMSLE for rf set 18 is 0.4938427866671478\n",
            "RMSLE for rf set 19 is 0.49553590440835027\n"
          ],
          "name": "stdout"
        }
      ]
    },
    {
      "cell_type": "code",
      "metadata": {
        "id": "ZggtySz-Bfgu"
      },
      "source": [
        "rf_model_eval.update(xgb_model_eval)\r\n",
        "\r\n",
        "model_eval_df = pd.DataFrame.from_dict(rf_model_eval, orient='index', columns=['rmsle_score']).sort_values(by='rmsle_score')\r\n",
        "\r\n",
        "selected_models = model_eval_df.head(20)"
      ],
      "execution_count": null,
      "outputs": []
    },
    {
      "cell_type": "markdown",
      "metadata": {
        "id": "KuY9dcIf_t4G"
      },
      "source": [
        "# Ensemble & Cross validation"
      ]
    },
    {
      "cell_type": "code",
      "metadata": {
        "id": "5V9cvib1LTUP"
      },
      "source": [
        "ridge_ypred = ridge_reg.fit(X_train, y_train).predict(X_test)\r\n",
        "\r\n",
        "xgb_ypred.update(rf_ypred)\r\n",
        "xgb_ypred['ridge_ypred'] = ridge_ypred"
      ],
      "execution_count": null,
      "outputs": []
    },
    {
      "cell_type": "code",
      "metadata": {
        "id": "1q9wOWkX-rGf"
      },
      "source": [
        "ensemble_features = selected_models.index.to_list() + ['ridge_ypred']\r\n",
        "\r\n",
        "ensemble_X = pd.DataFrame()\r\n",
        "for label in ensemble_features:\r\n",
        "  ensemble_X.loc[:, label] = xgb_ypred[label]\r\n",
        "\r\n",
        "ensemble_y = y_test.copy()"
      ],
      "execution_count": null,
      "outputs": []
    },
    {
      "cell_type": "code",
      "metadata": {
        "colab": {
          "base_uri": "https://localhost:8080/",
          "height": 232
        },
        "id": "wfe7Y6gOOL8A",
        "outputId": "8db5b4e7-bc15-4972-e08e-5f87ee62ee5a"
      },
      "source": [
        "ensemble_X.head()"
      ],
      "execution_count": null,
      "outputs": [
        {
          "output_type": "execute_result",
          "data": {
            "text/html": [
              "<div>\n",
              "<style scoped>\n",
              "    .dataframe tbody tr th:only-of-type {\n",
              "        vertical-align: middle;\n",
              "    }\n",
              "\n",
              "    .dataframe tbody tr th {\n",
              "        vertical-align: top;\n",
              "    }\n",
              "\n",
              "    .dataframe thead th {\n",
              "        text-align: right;\n",
              "    }\n",
              "</style>\n",
              "<table border=\"1\" class=\"dataframe\">\n",
              "  <thead>\n",
              "    <tr style=\"text-align: right;\">\n",
              "      <th></th>\n",
              "      <th>xgb set 10</th>\n",
              "      <th>xgb set 18</th>\n",
              "      <th>xgb set 19</th>\n",
              "      <th>xgb set 13</th>\n",
              "      <th>xgb set 17</th>\n",
              "      <th>xgb set 3</th>\n",
              "      <th>xgb set 0</th>\n",
              "      <th>rf set 4</th>\n",
              "      <th>rf set 1</th>\n",
              "      <th>xgb set 9</th>\n",
              "      <th>rf set 18</th>\n",
              "      <th>xgb set 15</th>\n",
              "      <th>rf set 11</th>\n",
              "      <th>rf set 2</th>\n",
              "      <th>rf set 13</th>\n",
              "      <th>rf set 0</th>\n",
              "      <th>rf set 14</th>\n",
              "      <th>rf set 8</th>\n",
              "      <th>rf set 5</th>\n",
              "      <th>rf set 15</th>\n",
              "      <th>ridge_ypred</th>\n",
              "    </tr>\n",
              "  </thead>\n",
              "  <tbody>\n",
              "    <tr>\n",
              "      <th>0</th>\n",
              "      <td>0.441978</td>\n",
              "      <td>0.487561</td>\n",
              "      <td>0.558305</td>\n",
              "      <td>0.430259</td>\n",
              "      <td>0.477640</td>\n",
              "      <td>0.526588</td>\n",
              "      <td>0.542039</td>\n",
              "      <td>0.353051</td>\n",
              "      <td>0.385026</td>\n",
              "      <td>0.350562</td>\n",
              "      <td>0.480955</td>\n",
              "      <td>0.609753</td>\n",
              "      <td>0.352823</td>\n",
              "      <td>0.307695</td>\n",
              "      <td>0.280881</td>\n",
              "      <td>0.262856</td>\n",
              "      <td>0.413562</td>\n",
              "      <td>0.359268</td>\n",
              "      <td>0.354161</td>\n",
              "      <td>0.261325</td>\n",
              "      <td>0.557741</td>\n",
              "    </tr>\n",
              "    <tr>\n",
              "      <th>1</th>\n",
              "      <td>0.312300</td>\n",
              "      <td>0.298846</td>\n",
              "      <td>0.362921</td>\n",
              "      <td>0.419430</td>\n",
              "      <td>0.446987</td>\n",
              "      <td>0.331339</td>\n",
              "      <td>0.285099</td>\n",
              "      <td>0.498372</td>\n",
              "      <td>0.473775</td>\n",
              "      <td>0.389514</td>\n",
              "      <td>0.432565</td>\n",
              "      <td>0.317982</td>\n",
              "      <td>0.481623</td>\n",
              "      <td>0.537192</td>\n",
              "      <td>0.518726</td>\n",
              "      <td>0.502789</td>\n",
              "      <td>0.389244</td>\n",
              "      <td>0.459487</td>\n",
              "      <td>0.506844</td>\n",
              "      <td>0.512859</td>\n",
              "      <td>0.053142</td>\n",
              "    </tr>\n",
              "    <tr>\n",
              "      <th>2</th>\n",
              "      <td>0.485472</td>\n",
              "      <td>0.194081</td>\n",
              "      <td>0.420051</td>\n",
              "      <td>0.336403</td>\n",
              "      <td>0.429280</td>\n",
              "      <td>0.165904</td>\n",
              "      <td>0.246369</td>\n",
              "      <td>0.182874</td>\n",
              "      <td>0.236698</td>\n",
              "      <td>0.517669</td>\n",
              "      <td>0.280777</td>\n",
              "      <td>0.185024</td>\n",
              "      <td>0.202579</td>\n",
              "      <td>0.217575</td>\n",
              "      <td>0.206179</td>\n",
              "      <td>0.210051</td>\n",
              "      <td>0.201390</td>\n",
              "      <td>0.203680</td>\n",
              "      <td>0.191286</td>\n",
              "      <td>0.213459</td>\n",
              "      <td>0.365717</td>\n",
              "    </tr>\n",
              "    <tr>\n",
              "      <th>3</th>\n",
              "      <td>0.183506</td>\n",
              "      <td>0.120559</td>\n",
              "      <td>0.142099</td>\n",
              "      <td>0.292311</td>\n",
              "      <td>0.321424</td>\n",
              "      <td>0.137351</td>\n",
              "      <td>0.125706</td>\n",
              "      <td>0.168750</td>\n",
              "      <td>0.187367</td>\n",
              "      <td>0.138082</td>\n",
              "      <td>0.177981</td>\n",
              "      <td>0.118286</td>\n",
              "      <td>0.178555</td>\n",
              "      <td>0.200256</td>\n",
              "      <td>0.200643</td>\n",
              "      <td>0.203265</td>\n",
              "      <td>0.160761</td>\n",
              "      <td>0.182006</td>\n",
              "      <td>0.177586</td>\n",
              "      <td>0.202147</td>\n",
              "      <td>0.206072</td>\n",
              "    </tr>\n",
              "    <tr>\n",
              "      <th>4</th>\n",
              "      <td>0.064159</td>\n",
              "      <td>0.114436</td>\n",
              "      <td>0.090029</td>\n",
              "      <td>0.289856</td>\n",
              "      <td>0.272544</td>\n",
              "      <td>0.115143</td>\n",
              "      <td>0.118966</td>\n",
              "      <td>0.168750</td>\n",
              "      <td>0.179927</td>\n",
              "      <td>0.076943</td>\n",
              "      <td>0.141666</td>\n",
              "      <td>0.121111</td>\n",
              "      <td>0.177883</td>\n",
              "      <td>0.199699</td>\n",
              "      <td>0.200643</td>\n",
              "      <td>0.203265</td>\n",
              "      <td>0.147952</td>\n",
              "      <td>0.179239</td>\n",
              "      <td>0.177586</td>\n",
              "      <td>0.202147</td>\n",
              "      <td>0.085561</td>\n",
              "    </tr>\n",
              "  </tbody>\n",
              "</table>\n",
              "</div>"
            ],
            "text/plain": [
              "   xgb set 10  xgb set 18  xgb set 19  ...  rf set 5  rf set 15  ridge_ypred\n",
              "0    0.441978    0.487561    0.558305  ...  0.354161   0.261325     0.557741\n",
              "1    0.312300    0.298846    0.362921  ...  0.506844   0.512859     0.053142\n",
              "2    0.485472    0.194081    0.420051  ...  0.191286   0.213459     0.365717\n",
              "3    0.183506    0.120559    0.142099  ...  0.177586   0.202147     0.206072\n",
              "4    0.064159    0.114436    0.090029  ...  0.177586   0.202147     0.085561\n",
              "\n",
              "[5 rows x 21 columns]"
            ]
          },
          "metadata": {
            "tags": []
          },
          "execution_count": 25
        }
      ]
    },
    {
      "cell_type": "markdown",
      "metadata": {
        "id": "7EapAamRMAv9"
      },
      "source": [
        "We use *Linear Regression*, without the intercept, to get the weights for these models"
      ]
    },
    {
      "cell_type": "code",
      "metadata": {
        "id": "C1skZflmKH8j"
      },
      "source": [
        "ens_lin_reg = LinearRegression(fit_intercept=False, normalize=True)"
      ],
      "execution_count": null,
      "outputs": []
    },
    {
      "cell_type": "code",
      "metadata": {
        "colab": {
          "base_uri": "https://localhost:8080/"
        },
        "id": "zYsboe8yOm6Q",
        "outputId": "db5687a2-2462-49ab-c1e7-3923ffaae78e"
      },
      "source": [
        "# prepare the cross-validation procedure\r\n",
        "cv = RepeatedKFold(n_splits=10, n_repeats=3, random_state=42)\r\n",
        "\r\n",
        "# evaluate model\r\n",
        "scores = cross_val_score(ens_lin_reg, ensemble_X, ensemble_y, scoring=rmsle, cv=cv, n_jobs=-1)\r\n",
        "\r\n",
        "# report performance\r\n",
        "print('RMSLE on train set: %.3f (%.3f)' % (-np.mean(scores), np.std(scores)))"
      ],
      "execution_count": null,
      "outputs": [
        {
          "output_type": "stream",
          "text": [
            "RMSLE on train set: 0.485 (0.006)\n"
          ],
          "name": "stdout"
        }
      ]
    },
    {
      "cell_type": "code",
      "metadata": {
        "colab": {
          "base_uri": "https://localhost:8080/"
        },
        "id": "fCjv2sSmPXzC",
        "outputId": "7ee7ad21-9fcb-407e-82bf-dace87a04f43"
      },
      "source": [
        "ens_lin_reg.fit(ensemble_X, ensemble_y)\r\n",
        "\r\n",
        "ens_ypred = np.dot(ensemble_X.values, ens_lin_reg.coef_)\r\n",
        "\r\n",
        "print(\"RMSLE on the test set: \", Root_MSLE(y_test, ens_ypred))"
      ],
      "execution_count": null,
      "outputs": [
        {
          "output_type": "stream",
          "text": [
            "RMSLE on the test set:  0.484448023276567\n"
          ],
          "name": "stdout"
        }
      ]
    },
    {
      "cell_type": "code",
      "metadata": {
        "colab": {
          "base_uri": "https://localhost:8080/",
          "height": 639
        },
        "id": "Rd0u08ewkOHa",
        "outputId": "7cfd9ac2-5007-437f-8b9a-de9700c8d062"
      },
      "source": [
        "# selected_models"
      ],
      "execution_count": null,
      "outputs": [
        {
          "output_type": "execute_result",
          "data": {
            "text/html": [
              "<div>\n",
              "<style scoped>\n",
              "    .dataframe tbody tr th:only-of-type {\n",
              "        vertical-align: middle;\n",
              "    }\n",
              "\n",
              "    .dataframe tbody tr th {\n",
              "        vertical-align: top;\n",
              "    }\n",
              "\n",
              "    .dataframe thead th {\n",
              "        text-align: right;\n",
              "    }\n",
              "</style>\n",
              "<table border=\"1\" class=\"dataframe\">\n",
              "  <thead>\n",
              "    <tr style=\"text-align: right;\">\n",
              "      <th></th>\n",
              "      <th>rmsle_score</th>\n",
              "    </tr>\n",
              "  </thead>\n",
              "  <tbody>\n",
              "    <tr>\n",
              "      <th>xgb set 10</th>\n",
              "      <td>0.487449</td>\n",
              "    </tr>\n",
              "    <tr>\n",
              "      <th>xgb set 18</th>\n",
              "      <td>0.489542</td>\n",
              "    </tr>\n",
              "    <tr>\n",
              "      <th>xgb set 19</th>\n",
              "      <td>0.490788</td>\n",
              "    </tr>\n",
              "    <tr>\n",
              "      <th>xgb set 13</th>\n",
              "      <td>0.491675</td>\n",
              "    </tr>\n",
              "    <tr>\n",
              "      <th>xgb set 17</th>\n",
              "      <td>0.491839</td>\n",
              "    </tr>\n",
              "    <tr>\n",
              "      <th>xgb set 3</th>\n",
              "      <td>0.491893</td>\n",
              "    </tr>\n",
              "    <tr>\n",
              "      <th>xgb set 0</th>\n",
              "      <td>0.492504</td>\n",
              "    </tr>\n",
              "    <tr>\n",
              "      <th>rf set 4</th>\n",
              "      <td>0.493228</td>\n",
              "    </tr>\n",
              "    <tr>\n",
              "      <th>rf set 1</th>\n",
              "      <td>0.493724</td>\n",
              "    </tr>\n",
              "    <tr>\n",
              "      <th>xgb set 9</th>\n",
              "      <td>0.493787</td>\n",
              "    </tr>\n",
              "    <tr>\n",
              "      <th>rf set 18</th>\n",
              "      <td>0.493843</td>\n",
              "    </tr>\n",
              "    <tr>\n",
              "      <th>xgb set 15</th>\n",
              "      <td>0.494114</td>\n",
              "    </tr>\n",
              "    <tr>\n",
              "      <th>rf set 11</th>\n",
              "      <td>0.494160</td>\n",
              "    </tr>\n",
              "    <tr>\n",
              "      <th>rf set 2</th>\n",
              "      <td>0.494216</td>\n",
              "    </tr>\n",
              "    <tr>\n",
              "      <th>rf set 13</th>\n",
              "      <td>0.494281</td>\n",
              "    </tr>\n",
              "    <tr>\n",
              "      <th>rf set 0</th>\n",
              "      <td>0.494369</td>\n",
              "    </tr>\n",
              "    <tr>\n",
              "      <th>rf set 14</th>\n",
              "      <td>0.494519</td>\n",
              "    </tr>\n",
              "    <tr>\n",
              "      <th>rf set 8</th>\n",
              "      <td>0.494567</td>\n",
              "    </tr>\n",
              "    <tr>\n",
              "      <th>rf set 5</th>\n",
              "      <td>0.494637</td>\n",
              "    </tr>\n",
              "    <tr>\n",
              "      <th>rf set 15</th>\n",
              "      <td>0.494830</td>\n",
              "    </tr>\n",
              "  </tbody>\n",
              "</table>\n",
              "</div>"
            ],
            "text/plain": [
              "            rmsle_score\n",
              "xgb set 10     0.487449\n",
              "xgb set 18     0.489542\n",
              "xgb set 19     0.490788\n",
              "xgb set 13     0.491675\n",
              "xgb set 17     0.491839\n",
              "xgb set 3      0.491893\n",
              "xgb set 0      0.492504\n",
              "rf set 4       0.493228\n",
              "rf set 1       0.493724\n",
              "xgb set 9      0.493787\n",
              "rf set 18      0.493843\n",
              "xgb set 15     0.494114\n",
              "rf set 11      0.494160\n",
              "rf set 2       0.494216\n",
              "rf set 13      0.494281\n",
              "rf set 0       0.494369\n",
              "rf set 14      0.494519\n",
              "rf set 8       0.494567\n",
              "rf set 5       0.494637\n",
              "rf set 15      0.494830"
            ]
          },
          "metadata": {
            "tags": []
          },
          "execution_count": 32
        }
      ]
    }
  ]
}