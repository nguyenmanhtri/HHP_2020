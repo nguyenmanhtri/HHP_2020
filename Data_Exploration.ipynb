{
  "nbformat": 4,
  "nbformat_minor": 0,
  "metadata": {
    "colab": {
      "name": "Data Exploration",
      "provenance": []
    },
    "kernelspec": {
      "name": "python3",
      "display_name": "Python 3"
    }
  },
  "cells": [
    {
      "cell_type": "code",
      "metadata": {
        "id": "eLjRHgL9oyZR"
      },
      "source": [
        "import pandas as pd\r\n",
        "import numpy as np\r\n",
        "\r\n",
        "import matplotlib.pyplot as plt"
      ],
      "execution_count": null,
      "outputs": []
    },
    {
      "cell_type": "code",
      "metadata": {
        "id": "H5A3bckvo4jo"
      },
      "source": [
        "claims = pd.read_csv(r'/content/drive/MyDrive/Colab Notebooks/heritage health prize/heritage dataset/release3/Claims.csv')\r\n",
        "members = pd.read_csv(r'/content/drive/MyDrive/Colab Notebooks/heritage health prize/heritage dataset/release3/Members.csv')\r\n",
        "drug_count = pd.read_csv(r'/content/drive/MyDrive/Colab Notebooks/heritage health prize/heritage dataset/release3/DrugCount.csv')\r\n",
        "lab_count = pd.read_csv(r'/content/drive/MyDrive/Colab Notebooks/heritage health prize/heritage dataset/release3/LabCount.csv')\r\n",
        "\r\n",
        "dih_y2 = pd.read_csv(r'/content/drive/MyDrive/Colab Notebooks/heritage health prize/heritage dataset/release3/DaysInHospital_Y2.csv')\r\n",
        "dih_y3 = pd.read_csv(r'/content/drive/MyDrive/Colab Notebooks/heritage health prize/heritage dataset/release3/DaysInHospital_Y3.csv')\r\n",
        "# target_df = pd.read_csv(r'/content/drive/MyDrive/Colab Notebooks/heritage health prize/heritage dataset/release3/Target.csv')"
      ],
      "execution_count": null,
      "outputs": []
    },
    {
      "cell_type": "markdown",
      "metadata": {
        "id": "u7_PnbpW3Fo8"
      },
      "source": [
        "# Custom Functions"
      ]
    },
    {
      "cell_type": "code",
      "metadata": {
        "id": "OWjaDR87pz4A"
      },
      "source": [
        "# convert text values to integer values\r\n",
        "# pay delay\r\n",
        "def pay_delay_to_int(text_val):\r\n",
        "  if text_val=='162+':\r\n",
        "    return 162\r\n",
        "  else:\r\n",
        "    return int(text_val)\r\n",
        "\r\n",
        "# days since first claim\r\n",
        "def dsfs_to_int(text_val):\r\n",
        "  if text_val=='0- 1 month':\r\n",
        "    return 1\r\n",
        "  elif text_val=='1- 2 months':\r\n",
        "    return 2\r\n",
        "  elif text_val=='2- 3 months':\r\n",
        "    return 3\r\n",
        "  elif text_val=='3- 4 months':\r\n",
        "    return 4\r\n",
        "  elif text_val=='4- 5 months':\r\n",
        "    return 5\r\n",
        "  elif text_val=='5- 6 months':\r\n",
        "    return 6\r\n",
        "  elif text_val=='6- 7 months':\r\n",
        "    return 7\r\n",
        "  elif text_val=='7- 8 months':\r\n",
        "    return 8\r\n",
        "  elif text_val=='8- 9 months':\r\n",
        "    return 9\r\n",
        "  elif text_val=='9-10 months':\r\n",
        "    return 10\r\n",
        "  elif text_val=='10-11 months':\r\n",
        "    return 11\r\n",
        "  elif text_val=='11-12 months':\r\n",
        "    return 12\r\n",
        "\r\n",
        "# charson index\r\n",
        "def charlson_ind_to_int(text_val):\r\n",
        "  if text_val=='0':\r\n",
        "    return 0\r\n",
        "  elif text_val=='1-2':\r\n",
        "    return 2\r\n",
        "  elif text_val=='3-4':\r\n",
        "    return 4\r\n",
        "  elif text_val=='5+':\r\n",
        "    return 6\r\n",
        "\r\n",
        "# length of stay\r\n",
        "def los_to_int(text_val):\r\n",
        "  if text_val=='1 day':\r\n",
        "    return 1\r\n",
        "  elif text_val=='2 days':\r\n",
        "    return 2\r\n",
        "  elif text_val=='3 days':\r\n",
        "    return 3\r\n",
        "  elif text_val=='4 days':\r\n",
        "    return 4\r\n",
        "  elif text_val=='5 days':\r\n",
        "    return 5\r\n",
        "  elif text_val=='6 days':\r\n",
        "    return 6\r\n",
        "  elif text_val=='1- 2 weeks':\r\n",
        "    return 11\r\n",
        "  elif text_val=='2- 4 weeks':\r\n",
        "    return 21\r\n",
        "  elif text_val=='4- 8 weeks':\r\n",
        "    return 42\r\n",
        "  elif text_val=='26+ weeks':\r\n",
        "    return 180\r\n",
        "\r\n",
        "# drug count\r\n",
        "def drug_count_to_int(text_val):\r\n",
        "  if text_val=='7+':\r\n",
        "    return 7\r\n",
        "  else:\r\n",
        "    return int(text_val)\r\n",
        "\r\n",
        "# lab count\r\n",
        "def lab_count_to_int(text_val):\r\n",
        "  if text_val=='10+':\r\n",
        "    return 10\r\n",
        "  else:\r\n",
        "    return int(text_val)"
      ],
      "execution_count": null,
      "outputs": []
    },
    {
      "cell_type": "markdown",
      "metadata": {
        "id": "KWBNVxsg3M3z"
      },
      "source": [
        "# Which age groups spend the most days in hospital?"
      ]
    },
    {
      "cell_type": "code",
      "metadata": {
        "id": "V-Xs41nzqZf7"
      },
      "source": [
        "claims.loc[:, 'PayDelay'] = claims['PayDelay'].apply(pay_delay_to_int)\r\n",
        "claims.loc[:, 'DSFS'] = claims['DSFS'].apply(dsfs_to_int)\r\n",
        "claims.loc[:, 'CharlsonIndex'] = claims['CharlsonIndex'].apply(charlson_ind_to_int)\r\n",
        "claims.loc[:, 'LengthOfStay'] = claims['LengthOfStay'].apply(los_to_int)\r\n",
        "\r\n",
        "drug_count.loc[:, 'DrugCount'] = drug_count['DrugCount'].apply(drug_count_to_int)\r\n",
        "lab_count.loc[:, 'LabCount'] = lab_count['LabCount'].apply(lab_count_to_int)"
      ],
      "execution_count": null,
      "outputs": []
    },
    {
      "cell_type": "code",
      "metadata": {
        "id": "zY4jV3mdze1h",
        "colab": {
          "base_uri": "https://localhost:8080/",
          "height": 195
        },
        "outputId": "d4ea9290-ea29-48f2-f50d-654589a3846e"
      },
      "source": [
        "df1 = dih_y2.merge(members, how='left', on='MemberID')\n",
        "\n",
        "df1.head()"
      ],
      "execution_count": null,
      "outputs": [
        {
          "output_type": "execute_result",
          "data": {
            "text/html": [
              "<div>\n",
              "<style scoped>\n",
              "    .dataframe tbody tr th:only-of-type {\n",
              "        vertical-align: middle;\n",
              "    }\n",
              "\n",
              "    .dataframe tbody tr th {\n",
              "        vertical-align: top;\n",
              "    }\n",
              "\n",
              "    .dataframe thead th {\n",
              "        text-align: right;\n",
              "    }\n",
              "</style>\n",
              "<table border=\"1\" class=\"dataframe\">\n",
              "  <thead>\n",
              "    <tr style=\"text-align: right;\">\n",
              "      <th></th>\n",
              "      <th>MemberID</th>\n",
              "      <th>ClaimsTruncated</th>\n",
              "      <th>DaysInHospital</th>\n",
              "      <th>AgeAtFirstClaim</th>\n",
              "      <th>Sex</th>\n",
              "    </tr>\n",
              "  </thead>\n",
              "  <tbody>\n",
              "    <tr>\n",
              "      <th>0</th>\n",
              "      <td>24027423</td>\n",
              "      <td>0</td>\n",
              "      <td>0</td>\n",
              "      <td>30-39</td>\n",
              "      <td>M</td>\n",
              "    </tr>\n",
              "    <tr>\n",
              "      <th>1</th>\n",
              "      <td>98324177</td>\n",
              "      <td>0</td>\n",
              "      <td>0</td>\n",
              "      <td>30-39</td>\n",
              "      <td>M</td>\n",
              "    </tr>\n",
              "    <tr>\n",
              "      <th>2</th>\n",
              "      <td>33899367</td>\n",
              "      <td>1</td>\n",
              "      <td>1</td>\n",
              "      <td>80+</td>\n",
              "      <td>F</td>\n",
              "    </tr>\n",
              "    <tr>\n",
              "      <th>3</th>\n",
              "      <td>5481382</td>\n",
              "      <td>0</td>\n",
              "      <td>1</td>\n",
              "      <td>20-29</td>\n",
              "      <td>F</td>\n",
              "    </tr>\n",
              "    <tr>\n",
              "      <th>4</th>\n",
              "      <td>69908334</td>\n",
              "      <td>0</td>\n",
              "      <td>0</td>\n",
              "      <td>60-69</td>\n",
              "      <td>F</td>\n",
              "    </tr>\n",
              "  </tbody>\n",
              "</table>\n",
              "</div>"
            ],
            "text/plain": [
              "   MemberID  ClaimsTruncated  DaysInHospital AgeAtFirstClaim Sex\n",
              "0  24027423                0               0           30-39   M\n",
              "1  98324177                0               0           30-39   M\n",
              "2  33899367                1               1             80+   F\n",
              "3   5481382                0               1           20-29   F\n",
              "4  69908334                0               0           60-69   F"
            ]
          },
          "metadata": {
            "tags": []
          },
          "execution_count": 5
        }
      ]
    },
    {
      "cell_type": "code",
      "metadata": {
        "colab": {
          "base_uri": "https://localhost:8080/",
          "height": 343
        },
        "id": "S7FazFrHAToL",
        "outputId": "50c26c06-5d98-4663-deb5-7c26fde209af"
      },
      "source": [
        "# function to get percentage contribution of each age group\r\n",
        "def pct(series):\r\n",
        "  return series.count() / len(df1)\r\n",
        "\r\n",
        "group_age_summary = df1.groupby('AgeAtFirstClaim', as_index=False, dropna=False)['DaysInHospital'].agg(['count', pct, 'min', 'max', 'mean', 'std', 'sum']).reset_index()\r\n",
        "group_age_summary"
      ],
      "execution_count": null,
      "outputs": [
        {
          "output_type": "execute_result",
          "data": {
            "text/html": [
              "<div>\n",
              "<style scoped>\n",
              "    .dataframe tbody tr th:only-of-type {\n",
              "        vertical-align: middle;\n",
              "    }\n",
              "\n",
              "    .dataframe tbody tr th {\n",
              "        vertical-align: top;\n",
              "    }\n",
              "\n",
              "    .dataframe thead th {\n",
              "        text-align: right;\n",
              "    }\n",
              "</style>\n",
              "<table border=\"1\" class=\"dataframe\">\n",
              "  <thead>\n",
              "    <tr style=\"text-align: right;\">\n",
              "      <th></th>\n",
              "      <th>AgeAtFirstClaim</th>\n",
              "      <th>count</th>\n",
              "      <th>pct</th>\n",
              "      <th>min</th>\n",
              "      <th>max</th>\n",
              "      <th>mean</th>\n",
              "      <th>std</th>\n",
              "      <th>sum</th>\n",
              "    </tr>\n",
              "  </thead>\n",
              "  <tbody>\n",
              "    <tr>\n",
              "      <th>0</th>\n",
              "      <td>0-9</td>\n",
              "      <td>6529</td>\n",
              "      <td>0.085865</td>\n",
              "      <td>0</td>\n",
              "      <td>15</td>\n",
              "      <td>0.171083</td>\n",
              "      <td>0.688213</td>\n",
              "      <td>1117</td>\n",
              "    </tr>\n",
              "    <tr>\n",
              "      <th>1</th>\n",
              "      <td>10-19</td>\n",
              "      <td>6906</td>\n",
              "      <td>0.090823</td>\n",
              "      <td>0</td>\n",
              "      <td>15</td>\n",
              "      <td>0.148277</td>\n",
              "      <td>0.670487</td>\n",
              "      <td>1024</td>\n",
              "    </tr>\n",
              "    <tr>\n",
              "      <th>2</th>\n",
              "      <td>20-29</td>\n",
              "      <td>4517</td>\n",
              "      <td>0.059405</td>\n",
              "      <td>0</td>\n",
              "      <td>15</td>\n",
              "      <td>0.427275</td>\n",
              "      <td>1.319050</td>\n",
              "      <td>1930</td>\n",
              "    </tr>\n",
              "    <tr>\n",
              "      <th>3</th>\n",
              "      <td>30-39</td>\n",
              "      <td>7308</td>\n",
              "      <td>0.096110</td>\n",
              "      <td>0</td>\n",
              "      <td>15</td>\n",
              "      <td>0.311166</td>\n",
              "      <td>1.130369</td>\n",
              "      <td>2274</td>\n",
              "    </tr>\n",
              "    <tr>\n",
              "      <th>4</th>\n",
              "      <td>40-49</td>\n",
              "      <td>10108</td>\n",
              "      <td>0.132934</td>\n",
              "      <td>0</td>\n",
              "      <td>15</td>\n",
              "      <td>0.208548</td>\n",
              "      <td>0.936406</td>\n",
              "      <td>2108</td>\n",
              "    </tr>\n",
              "    <tr>\n",
              "      <th>5</th>\n",
              "      <td>50-59</td>\n",
              "      <td>8544</td>\n",
              "      <td>0.112365</td>\n",
              "      <td>0</td>\n",
              "      <td>15</td>\n",
              "      <td>0.296348</td>\n",
              "      <td>1.328764</td>\n",
              "      <td>2532</td>\n",
              "    </tr>\n",
              "    <tr>\n",
              "      <th>6</th>\n",
              "      <td>60-69</td>\n",
              "      <td>8832</td>\n",
              "      <td>0.116152</td>\n",
              "      <td>0</td>\n",
              "      <td>15</td>\n",
              "      <td>0.492074</td>\n",
              "      <td>1.765478</td>\n",
              "      <td>4346</td>\n",
              "    </tr>\n",
              "    <tr>\n",
              "      <th>7</th>\n",
              "      <td>70-79</td>\n",
              "      <td>12252</td>\n",
              "      <td>0.161130</td>\n",
              "      <td>0</td>\n",
              "      <td>15</td>\n",
              "      <td>0.732125</td>\n",
              "      <td>2.157515</td>\n",
              "      <td>8970</td>\n",
              "    </tr>\n",
              "    <tr>\n",
              "      <th>8</th>\n",
              "      <td>80+</td>\n",
              "      <td>6500</td>\n",
              "      <td>0.085484</td>\n",
              "      <td>0</td>\n",
              "      <td>15</td>\n",
              "      <td>1.029231</td>\n",
              "      <td>2.394165</td>\n",
              "      <td>6690</td>\n",
              "    </tr>\n",
              "    <tr>\n",
              "      <th>9</th>\n",
              "      <td>NaN</td>\n",
              "      <td>4542</td>\n",
              "      <td>0.059733</td>\n",
              "      <td>0</td>\n",
              "      <td>15</td>\n",
              "      <td>0.996477</td>\n",
              "      <td>2.196870</td>\n",
              "      <td>4526</td>\n",
              "    </tr>\n",
              "  </tbody>\n",
              "</table>\n",
              "</div>"
            ],
            "text/plain": [
              "  AgeAtFirstClaim  count       pct  min  max      mean       std   sum\n",
              "0             0-9   6529  0.085865    0   15  0.171083  0.688213  1117\n",
              "1           10-19   6906  0.090823    0   15  0.148277  0.670487  1024\n",
              "2           20-29   4517  0.059405    0   15  0.427275  1.319050  1930\n",
              "3           30-39   7308  0.096110    0   15  0.311166  1.130369  2274\n",
              "4           40-49  10108  0.132934    0   15  0.208548  0.936406  2108\n",
              "5           50-59   8544  0.112365    0   15  0.296348  1.328764  2532\n",
              "6           60-69   8832  0.116152    0   15  0.492074  1.765478  4346\n",
              "7           70-79  12252  0.161130    0   15  0.732125  2.157515  8970\n",
              "8             80+   6500  0.085484    0   15  1.029231  2.394165  6690\n",
              "9             NaN   4542  0.059733    0   15  0.996477  2.196870  4526"
            ]
          },
          "metadata": {
            "tags": []
          },
          "execution_count": 6
        }
      ]
    },
    {
      "cell_type": "code",
      "metadata": {
        "colab": {
          "base_uri": "https://localhost:8080/"
        },
        "id": "xsBd9nm2CVI-",
        "outputId": "04a0d00b-8500-4245-aaaf-9d2a5520534d"
      },
      "source": [
        "print(f'Smallest % age group: {100 * group_age_summary.pct.min():.2f}% {group_age_summary[group_age_summary.pct==group_age_summary.pct.min()].AgeAtFirstClaim.values[0]}')\r\n",
        "print(f'Largest % age group: {100 * group_age_summary.pct.max():.2f}% {group_age_summary[group_age_summary.pct==group_age_summary.pct.max()].AgeAtFirstClaim.values[0]}')"
      ],
      "execution_count": null,
      "outputs": [
        {
          "output_type": "stream",
          "text": [
            "Smallest % age group: 5.94% 20-29\n",
            "Largest % age group: 16.11% 70-79\n"
          ],
          "name": "stdout"
        }
      ]
    },
    {
      "cell_type": "markdown",
      "metadata": {
        "id": "iKE94YsSAnl8"
      },
      "source": [
        "We can see that members are distributed across different age groups quite evenly, ranging from 5.94% (20-29 group) to 16.11% (70-79 group)."
      ]
    },
    {
      "cell_type": "code",
      "metadata": {
        "colab": {
          "base_uri": "https://localhost:8080/",
          "height": 370
        },
        "id": "g7FVqe7ODkd4",
        "outputId": "9a5c0f77-6497-49c4-b804-c9469c80cb25"
      },
      "source": [
        "group_age_summary.plot(x='AgeAtFirstClaim', y='mean', kind='bar', figsize=(7, 5), ylabel='Average Days in Hospital')"
      ],
      "execution_count": null,
      "outputs": [
        {
          "output_type": "execute_result",
          "data": {
            "text/plain": [
              "<matplotlib.axes._subplots.AxesSubplot at 0x7fa09211b390>"
            ]
          },
          "metadata": {
            "tags": []
          },
          "execution_count": 8
        },
        {
          "output_type": "display_data",
          "data": {
            "image/png": "[encoded data removed]",
            "text/plain": [
              "<Figure size 504x360 with 1 Axes>"
            ]
          },
          "metadata": {
            "tags": [],
            "needs_background": "light"
          }
        }
      ]
    },
    {
      "cell_type": "markdown",
      "metadata": {
        "id": "pHmBFrtGEwUW"
      },
      "source": [
        "Seniors (over 65 years old) spend more days in the hospital than members from other age groups."
      ]
    },
    {
      "cell_type": "markdown",
      "metadata": {
        "id": "Dv0mvFUbJniQ"
      },
      "source": [
        "# Which gender spend more days in hospital?"
      ]
    },
    {
      "cell_type": "code",
      "metadata": {
        "colab": {
          "base_uri": "https://localhost:8080/",
          "height": 360
        },
        "id": "Lf5fo_KBJx-7",
        "outputId": "d65b6d39-0ca6-44d3-da89-a53dd0610977"
      },
      "source": [
        "gender_summary = df1.groupby('Sex', as_index=False, dropna=False)['DaysInHospital'].agg(['count', pct, 'min', 'max', 'mean', 'std', 'sum']).reset_index()\n",
        "\n",
        "gender_summary.plot(x='Sex', y='mean', kind='bar', figsize=(7, 5), ylabel='Average Days in Hospital')"
      ],
      "execution_count": null,
      "outputs": [
        {
          "output_type": "execute_result",
          "data": {
            "text/plain": [
              "<matplotlib.axes._subplots.AxesSubplot at 0x7fa092156978>"
            ]
          },
          "metadata": {
            "tags": []
          },
          "execution_count": 9
        },
        {
          "output_type": "display_data",
          "data": {
            "image/png": "[encoded data removed]",
            "text/plain": [
              "<Figure size 504x360 with 1 Axes>"
            ]
          },
          "metadata": {
            "tags": [],
            "needs_background": "light"
          }
        }
      ]
    },
    {
      "cell_type": "code",
      "metadata": {
        "colab": {
          "base_uri": "https://localhost:8080/",
          "height": 482
        },
        "id": "Uqj9tnzPMqtj",
        "outputId": "b31ca807-9726-40d7-fe3b-5e4f5cc9b02c"
      },
      "source": [
        "f_days_in_hospital = df1[df1['Sex']=='F'].groupby('AgeAtFirstClaim', as_index=False, dropna=False)['DaysInHospital'].mean().reset_index(drop=True).rename(columns={'DaysInHospital': 'Female'})\n",
        "m_days_in_hospital = df1[df1['Sex']=='M'].groupby('AgeAtFirstClaim', as_index=False, dropna=False)['DaysInHospital'].mean().reset_index(drop=True).rename(columns={'DaysInHospital': 'Male'})\n",
        "nan_days_in_hospital = df1[pd.isna(df1['Sex'])==True].groupby('AgeAtFirstClaim', as_index=False, dropna=False)['DaysInHospital'].mean().reset_index(drop=True).rename(columns={'DaysInHospital': 'NaN'})\n",
        "\n",
        "# plot days in hospital across different age groups and genders\n",
        "f_days_in_hospital.merge(m_days_in_hospital, how='left', on='AgeAtFirstClaim').merge(nan_days_in_hospital, how='left', on='AgeAtFirstClaim').plot(\n",
        "    x='AgeAtFirstClaim', y=['Female', 'Male', 'NaN'], kind='bar', figsize=(10, 7), ylabel='Average Days in Hospital')"
      ],
      "execution_count": null,
      "outputs": [
        {
          "output_type": "execute_result",
          "data": {
            "text/plain": [
              "<matplotlib.axes._subplots.AxesSubplot at 0x7fa09219f0b8>"
            ]
          },
          "metadata": {
            "tags": []
          },
          "execution_count": 10
        },
        {
          "output_type": "display_data",
          "data": {
            "image/png": "[encoded data removed]",
            "text/plain": [
              "<Figure size 720x504 with 1 Axes>"
            ]
          },
          "metadata": {
            "tags": [],
            "needs_background": "light"
          }
        }
      ]
    },
    {
      "cell_type": "markdown",
      "metadata": {
        "id": "YngwIKUxKsSd"
      },
      "source": [
        "On average, female patients spend more time in hospital than their male counterparts. Except for some age groups, 0-9, 60-69 and 70-79, where male patients are admitted into hospital more."
      ]
    },
    {
      "cell_type": "markdown",
      "metadata": {
        "id": "QicL-c1pRpe1"
      },
      "source": [
        "# Number of Claims"
      ]
    },
    {
      "cell_type": "code",
      "metadata": {
        "id": "jt8z7i0iRvMj"
      },
      "source": [
        "data = pd.read_csv(r\"/content/drive/MyDrive/Colab Notebooks/heritage health prize/hhp_final_data.csv\")\n",
        "\n",
        "# data.head()"
      ],
      "execution_count": null,
      "outputs": []
    },
    {
      "cell_type": "code",
      "metadata": {
        "id": "i_mTB5W_Snfm"
      },
      "source": [
        "data_y1 = data[data['Year']=='Y1'][['MemberID', 'ClaimsTruncated', 'DaysInHospital', 'no_claims', 'avg_paydelay', 'avg_los', 'avg_charlsonindex']]"
      ],
      "execution_count": null,
      "outputs": []
    },
    {
      "cell_type": "code",
      "metadata": {
        "colab": {
          "base_uri": "https://localhost:8080/",
          "height": 106
        },
        "id": "7bTcAn5qS4xS",
        "outputId": "82f3a2ba-b087-4bf3-92ec-751ae9d3b1f6"
      },
      "source": [
        "# data_y1.plot(x='no_claims', y='DaysInHospital', kind='scatter', figsize=(10, 7), alpha=.7)\r\n",
        "\r\n",
        "data_y1[['DaysInHospital',\t'no_claims']].corr()"
      ],
      "execution_count": null,
      "outputs": [
        {
          "output_type": "execute_result",
          "data": {
            "text/html": [
              "<div>\n",
              "<style scoped>\n",
              "    .dataframe tbody tr th:only-of-type {\n",
              "        vertical-align: middle;\n",
              "    }\n",
              "\n",
              "    .dataframe tbody tr th {\n",
              "        vertical-align: top;\n",
              "    }\n",
              "\n",
              "    .dataframe thead th {\n",
              "        text-align: right;\n",
              "    }\n",
              "</style>\n",
              "<table border=\"1\" class=\"dataframe\">\n",
              "  <thead>\n",
              "    <tr style=\"text-align: right;\">\n",
              "      <th></th>\n",
              "      <th>DaysInHospital</th>\n",
              "      <th>no_claims</th>\n",
              "    </tr>\n",
              "  </thead>\n",
              "  <tbody>\n",
              "    <tr>\n",
              "      <th>DaysInHospital</th>\n",
              "      <td>1.000000</td>\n",
              "      <td>0.183525</td>\n",
              "    </tr>\n",
              "    <tr>\n",
              "      <th>no_claims</th>\n",
              "      <td>0.183525</td>\n",
              "      <td>1.000000</td>\n",
              "    </tr>\n",
              "  </tbody>\n",
              "</table>\n",
              "</div>"
            ],
            "text/plain": [
              "                DaysInHospital  no_claims\n",
              "DaysInHospital        1.000000   0.183525\n",
              "no_claims             0.183525   1.000000"
            ]
          },
          "metadata": {
            "tags": []
          },
          "execution_count": 13
        }
      ]
    },
    {
      "cell_type": "markdown",
      "metadata": {
        "id": "ZoCXZyTpTS_c"
      },
      "source": [
        "Number of claims and Days in hospital have a positive correlation, but not very significant."
      ]
    },
    {
      "cell_type": "markdown",
      "metadata": {
        "id": "Ru77X42LVBbG"
      },
      "source": [
        "# Pay delay"
      ]
    },
    {
      "cell_type": "code",
      "metadata": {
        "colab": {
          "base_uri": "https://localhost:8080/",
          "height": 261
        },
        "id": "JKdMWtKtV5Kf",
        "outputId": "fee13d2a-15ad-4426-dbcd-0dd84fa3b8ef"
      },
      "source": [
        "data.head()"
      ],
      "execution_count": null,
      "outputs": [
        {
          "output_type": "execute_result",
          "data": {
            "text/html": [
              "<div>\n",
              "<style scoped>\n",
              "    .dataframe tbody tr th:only-of-type {\n",
              "        vertical-align: middle;\n",
              "    }\n",
              "\n",
              "    .dataframe tbody tr th {\n",
              "        vertical-align: top;\n",
              "    }\n",
              "\n",
              "    .dataframe thead th {\n",
              "        text-align: right;\n",
              "    }\n",
              "</style>\n",
              "<table border=\"1\" class=\"dataframe\">\n",
              "  <thead>\n",
              "    <tr style=\"text-align: right;\">\n",
              "      <th></th>\n",
              "      <th>MemberID</th>\n",
              "      <th>ClaimsTruncated</th>\n",
              "      <th>DaysInHospital</th>\n",
              "      <th>Year</th>\n",
              "      <th>trainset</th>\n",
              "      <th>age_0-9</th>\n",
              "      <th>age_10-19</th>\n",
              "      <th>age_20-29</th>\n",
              "      <th>age_30-39</th>\n",
              "      <th>age_40-49</th>\n",
              "      <th>age_50-59</th>\n",
              "      <th>age_60-69</th>\n",
              "      <th>age_70-79</th>\n",
              "      <th>age_80+</th>\n",
              "      <th>age_nan</th>\n",
              "      <th>sex_F</th>\n",
              "      <th>sex_M</th>\n",
              "      <th>sex_nan</th>\n",
              "      <th>no_claims</th>\n",
              "      <th>no_providers</th>\n",
              "      <th>no_vendors</th>\n",
              "      <th>no_pcp</th>\n",
              "      <th>no_placesvc</th>\n",
              "      <th>no_specialty</th>\n",
              "      <th>no_pcg</th>\n",
              "      <th>no_pg</th>\n",
              "      <th>max_paydelay</th>\n",
              "      <th>min_paydelay</th>\n",
              "      <th>avg_paydelay</th>\n",
              "      <th>std_paydelay</th>\n",
              "      <th>max_los</th>\n",
              "      <th>min_los</th>\n",
              "      <th>avg_los</th>\n",
              "      <th>std_los</th>\n",
              "      <th>los_tot_unknown</th>\n",
              "      <th>los_tot_suppressed</th>\n",
              "      <th>los_tot_known</th>\n",
              "      <th>max_charlsonindex</th>\n",
              "      <th>min_charlsonindex</th>\n",
              "      <th>avg_charlsonindex</th>\n",
              "      <th>...</th>\n",
              "      <th>pg0</th>\n",
              "      <th>pg1</th>\n",
              "      <th>pg2</th>\n",
              "      <th>pg3</th>\n",
              "      <th>pg4</th>\n",
              "      <th>pg5</th>\n",
              "      <th>pg6</th>\n",
              "      <th>pg7</th>\n",
              "      <th>pg8</th>\n",
              "      <th>pg9</th>\n",
              "      <th>pg10</th>\n",
              "      <th>pg11</th>\n",
              "      <th>pg12</th>\n",
              "      <th>pg13</th>\n",
              "      <th>pg14</th>\n",
              "      <th>pg15</th>\n",
              "      <th>pg16</th>\n",
              "      <th>pg17</th>\n",
              "      <th>ps0</th>\n",
              "      <th>ps1</th>\n",
              "      <th>ps2</th>\n",
              "      <th>ps3</th>\n",
              "      <th>ps4</th>\n",
              "      <th>ps5</th>\n",
              "      <th>ps6</th>\n",
              "      <th>ps7</th>\n",
              "      <th>ps8</th>\n",
              "      <th>min_drugcount</th>\n",
              "      <th>max_drugcount</th>\n",
              "      <th>avg_drugcount</th>\n",
              "      <th>count_drugcount</th>\n",
              "      <th>min_labcount</th>\n",
              "      <th>max_labcount</th>\n",
              "      <th>avg_labcount</th>\n",
              "      <th>count_labcount</th>\n",
              "      <th>pcp_prob</th>\n",
              "      <th>vendor_prob</th>\n",
              "      <th>provider_prob</th>\n",
              "      <th>drugcount_nan</th>\n",
              "      <th>labcount_nan</th>\n",
              "    </tr>\n",
              "  </thead>\n",
              "  <tbody>\n",
              "    <tr>\n",
              "      <th>0</th>\n",
              "      <td>24027423</td>\n",
              "      <td>0</td>\n",
              "      <td>0</td>\n",
              "      <td>Y1</td>\n",
              "      <td>1</td>\n",
              "      <td>0</td>\n",
              "      <td>0</td>\n",
              "      <td>0</td>\n",
              "      <td>1</td>\n",
              "      <td>0</td>\n",
              "      <td>0</td>\n",
              "      <td>0</td>\n",
              "      <td>0</td>\n",
              "      <td>0</td>\n",
              "      <td>0</td>\n",
              "      <td>0</td>\n",
              "      <td>1</td>\n",
              "      <td>0</td>\n",
              "      <td>5</td>\n",
              "      <td>3</td>\n",
              "      <td>3</td>\n",
              "      <td>1</td>\n",
              "      <td>2</td>\n",
              "      <td>3</td>\n",
              "      <td>3</td>\n",
              "      <td>4</td>\n",
              "      <td>35</td>\n",
              "      <td>27</td>\n",
              "      <td>30.400000</td>\n",
              "      <td>4.219005</td>\n",
              "      <td>0.0</td>\n",
              "      <td>0.0</td>\n",
              "      <td>0.0</td>\n",
              "      <td>-1.0</td>\n",
              "      <td>5</td>\n",
              "      <td>0</td>\n",
              "      <td>0</td>\n",
              "      <td>4</td>\n",
              "      <td>0</td>\n",
              "      <td>2.8</td>\n",
              "      <td>...</td>\n",
              "      <td>1.0</td>\n",
              "      <td>2.0</td>\n",
              "      <td>1.0</td>\n",
              "      <td>0.0</td>\n",
              "      <td>0.0</td>\n",
              "      <td>0.0</td>\n",
              "      <td>1.0</td>\n",
              "      <td>0.0</td>\n",
              "      <td>0.0</td>\n",
              "      <td>0.0</td>\n",
              "      <td>0.0</td>\n",
              "      <td>0.0</td>\n",
              "      <td>0.0</td>\n",
              "      <td>0.0</td>\n",
              "      <td>0.0</td>\n",
              "      <td>0.0</td>\n",
              "      <td>0.0</td>\n",
              "      <td>0.0</td>\n",
              "      <td>3.0</td>\n",
              "      <td>2.0</td>\n",
              "      <td>0.0</td>\n",
              "      <td>0.0</td>\n",
              "      <td>0.0</td>\n",
              "      <td>0.0</td>\n",
              "      <td>0.0</td>\n",
              "      <td>0.0</td>\n",
              "      <td>0.0</td>\n",
              "      <td>3.0</td>\n",
              "      <td>3.0</td>\n",
              "      <td>3.000000</td>\n",
              "      <td>1.0</td>\n",
              "      <td>7.0</td>\n",
              "      <td>7.0</td>\n",
              "      <td>7.000000</td>\n",
              "      <td>1.0</td>\n",
              "      <td>0.257737</td>\n",
              "      <td>0.299153</td>\n",
              "      <td>0.239850</td>\n",
              "      <td>0</td>\n",
              "      <td>0</td>\n",
              "    </tr>\n",
              "    <tr>\n",
              "      <th>1</th>\n",
              "      <td>98324177</td>\n",
              "      <td>0</td>\n",
              "      <td>0</td>\n",
              "      <td>Y1</td>\n",
              "      <td>1</td>\n",
              "      <td>0</td>\n",
              "      <td>0</td>\n",
              "      <td>0</td>\n",
              "      <td>1</td>\n",
              "      <td>0</td>\n",
              "      <td>0</td>\n",
              "      <td>0</td>\n",
              "      <td>0</td>\n",
              "      <td>0</td>\n",
              "      <td>0</td>\n",
              "      <td>0</td>\n",
              "      <td>1</td>\n",
              "      <td>0</td>\n",
              "      <td>6</td>\n",
              "      <td>3</td>\n",
              "      <td>3</td>\n",
              "      <td>1</td>\n",
              "      <td>2</td>\n",
              "      <td>2</td>\n",
              "      <td>2</td>\n",
              "      <td>4</td>\n",
              "      <td>146</td>\n",
              "      <td>23</td>\n",
              "      <td>70.666667</td>\n",
              "      <td>59.308234</td>\n",
              "      <td>0.0</td>\n",
              "      <td>0.0</td>\n",
              "      <td>0.0</td>\n",
              "      <td>-1.0</td>\n",
              "      <td>6</td>\n",
              "      <td>0</td>\n",
              "      <td>0</td>\n",
              "      <td>0</td>\n",
              "      <td>0</td>\n",
              "      <td>0.0</td>\n",
              "      <td>...</td>\n",
              "      <td>0.0</td>\n",
              "      <td>2.0</td>\n",
              "      <td>1.0</td>\n",
              "      <td>0.0</td>\n",
              "      <td>0.0</td>\n",
              "      <td>0.0</td>\n",
              "      <td>2.0</td>\n",
              "      <td>1.0</td>\n",
              "      <td>0.0</td>\n",
              "      <td>0.0</td>\n",
              "      <td>0.0</td>\n",
              "      <td>0.0</td>\n",
              "      <td>0.0</td>\n",
              "      <td>0.0</td>\n",
              "      <td>0.0</td>\n",
              "      <td>0.0</td>\n",
              "      <td>0.0</td>\n",
              "      <td>0.0</td>\n",
              "      <td>3.0</td>\n",
              "      <td>3.0</td>\n",
              "      <td>0.0</td>\n",
              "      <td>0.0</td>\n",
              "      <td>0.0</td>\n",
              "      <td>0.0</td>\n",
              "      <td>0.0</td>\n",
              "      <td>0.0</td>\n",
              "      <td>0.0</td>\n",
              "      <td>1.0</td>\n",
              "      <td>1.0</td>\n",
              "      <td>1.000000</td>\n",
              "      <td>1.0</td>\n",
              "      <td>7.0</td>\n",
              "      <td>7.0</td>\n",
              "      <td>7.000000</td>\n",
              "      <td>1.0</td>\n",
              "      <td>0.265180</td>\n",
              "      <td>0.248000</td>\n",
              "      <td>0.242471</td>\n",
              "      <td>0</td>\n",
              "      <td>0</td>\n",
              "    </tr>\n",
              "    <tr>\n",
              "      <th>2</th>\n",
              "      <td>33899367</td>\n",
              "      <td>1</td>\n",
              "      <td>1</td>\n",
              "      <td>Y1</td>\n",
              "      <td>1</td>\n",
              "      <td>0</td>\n",
              "      <td>0</td>\n",
              "      <td>0</td>\n",
              "      <td>0</td>\n",
              "      <td>0</td>\n",
              "      <td>0</td>\n",
              "      <td>0</td>\n",
              "      <td>0</td>\n",
              "      <td>1</td>\n",
              "      <td>0</td>\n",
              "      <td>1</td>\n",
              "      <td>0</td>\n",
              "      <td>0</td>\n",
              "      <td>41</td>\n",
              "      <td>8</td>\n",
              "      <td>8</td>\n",
              "      <td>1</td>\n",
              "      <td>3</td>\n",
              "      <td>6</td>\n",
              "      <td>8</td>\n",
              "      <td>6</td>\n",
              "      <td>162</td>\n",
              "      <td>13</td>\n",
              "      <td>45.000000</td>\n",
              "      <td>31.216983</td>\n",
              "      <td>0.0</td>\n",
              "      <td>0.0</td>\n",
              "      <td>0.0</td>\n",
              "      <td>-1.0</td>\n",
              "      <td>41</td>\n",
              "      <td>0</td>\n",
              "      <td>0</td>\n",
              "      <td>0</td>\n",
              "      <td>0</td>\n",
              "      <td>0.0</td>\n",
              "      <td>...</td>\n",
              "      <td>5.0</td>\n",
              "      <td>22.0</td>\n",
              "      <td>1.0</td>\n",
              "      <td>3.0</td>\n",
              "      <td>0.0</td>\n",
              "      <td>0.0</td>\n",
              "      <td>1.0</td>\n",
              "      <td>0.0</td>\n",
              "      <td>9.0</td>\n",
              "      <td>0.0</td>\n",
              "      <td>0.0</td>\n",
              "      <td>0.0</td>\n",
              "      <td>0.0</td>\n",
              "      <td>0.0</td>\n",
              "      <td>0.0</td>\n",
              "      <td>0.0</td>\n",
              "      <td>0.0</td>\n",
              "      <td>0.0</td>\n",
              "      <td>37.0</td>\n",
              "      <td>2.0</td>\n",
              "      <td>0.0</td>\n",
              "      <td>0.0</td>\n",
              "      <td>2.0</td>\n",
              "      <td>0.0</td>\n",
              "      <td>0.0</td>\n",
              "      <td>0.0</td>\n",
              "      <td>0.0</td>\n",
              "      <td>1.0</td>\n",
              "      <td>6.0</td>\n",
              "      <td>2.300000</td>\n",
              "      <td>10.0</td>\n",
              "      <td>1.0</td>\n",
              "      <td>1.0</td>\n",
              "      <td>1.000000</td>\n",
              "      <td>1.0</td>\n",
              "      <td>0.106716</td>\n",
              "      <td>0.327027</td>\n",
              "      <td>0.209908</td>\n",
              "      <td>0</td>\n",
              "      <td>0</td>\n",
              "    </tr>\n",
              "    <tr>\n",
              "      <th>3</th>\n",
              "      <td>5481382</td>\n",
              "      <td>0</td>\n",
              "      <td>1</td>\n",
              "      <td>Y1</td>\n",
              "      <td>1</td>\n",
              "      <td>0</td>\n",
              "      <td>0</td>\n",
              "      <td>1</td>\n",
              "      <td>0</td>\n",
              "      <td>0</td>\n",
              "      <td>0</td>\n",
              "      <td>0</td>\n",
              "      <td>0</td>\n",
              "      <td>0</td>\n",
              "      <td>0</td>\n",
              "      <td>1</td>\n",
              "      <td>0</td>\n",
              "      <td>0</td>\n",
              "      <td>12</td>\n",
              "      <td>6</td>\n",
              "      <td>5</td>\n",
              "      <td>1</td>\n",
              "      <td>3</td>\n",
              "      <td>5</td>\n",
              "      <td>5</td>\n",
              "      <td>4</td>\n",
              "      <td>162</td>\n",
              "      <td>28</td>\n",
              "      <td>68.000000</td>\n",
              "      <td>48.151277</td>\n",
              "      <td>0.0</td>\n",
              "      <td>0.0</td>\n",
              "      <td>0.0</td>\n",
              "      <td>-1.0</td>\n",
              "      <td>12</td>\n",
              "      <td>0</td>\n",
              "      <td>0</td>\n",
              "      <td>0</td>\n",
              "      <td>0</td>\n",
              "      <td>0.0</td>\n",
              "      <td>...</td>\n",
              "      <td>0.0</td>\n",
              "      <td>5.0</td>\n",
              "      <td>0.0</td>\n",
              "      <td>1.0</td>\n",
              "      <td>0.0</td>\n",
              "      <td>0.0</td>\n",
              "      <td>4.0</td>\n",
              "      <td>0.0</td>\n",
              "      <td>0.0</td>\n",
              "      <td>2.0</td>\n",
              "      <td>0.0</td>\n",
              "      <td>0.0</td>\n",
              "      <td>0.0</td>\n",
              "      <td>0.0</td>\n",
              "      <td>0.0</td>\n",
              "      <td>0.0</td>\n",
              "      <td>0.0</td>\n",
              "      <td>0.0</td>\n",
              "      <td>7.0</td>\n",
              "      <td>3.0</td>\n",
              "      <td>0.0</td>\n",
              "      <td>0.0</td>\n",
              "      <td>2.0</td>\n",
              "      <td>0.0</td>\n",
              "      <td>0.0</td>\n",
              "      <td>0.0</td>\n",
              "      <td>0.0</td>\n",
              "      <td>1.0</td>\n",
              "      <td>2.0</td>\n",
              "      <td>1.111111</td>\n",
              "      <td>9.0</td>\n",
              "      <td>1.0</td>\n",
              "      <td>2.0</td>\n",
              "      <td>1.666667</td>\n",
              "      <td>3.0</td>\n",
              "      <td>0.213570</td>\n",
              "      <td>0.245260</td>\n",
              "      <td>0.239850</td>\n",
              "      <td>0</td>\n",
              "      <td>0</td>\n",
              "    </tr>\n",
              "    <tr>\n",
              "      <th>4</th>\n",
              "      <td>69908334</td>\n",
              "      <td>0</td>\n",
              "      <td>0</td>\n",
              "      <td>Y1</td>\n",
              "      <td>1</td>\n",
              "      <td>0</td>\n",
              "      <td>0</td>\n",
              "      <td>0</td>\n",
              "      <td>0</td>\n",
              "      <td>0</td>\n",
              "      <td>0</td>\n",
              "      <td>1</td>\n",
              "      <td>0</td>\n",
              "      <td>0</td>\n",
              "      <td>0</td>\n",
              "      <td>1</td>\n",
              "      <td>0</td>\n",
              "      <td>0</td>\n",
              "      <td>17</td>\n",
              "      <td>9</td>\n",
              "      <td>6</td>\n",
              "      <td>1</td>\n",
              "      <td>3</td>\n",
              "      <td>5</td>\n",
              "      <td>5</td>\n",
              "      <td>6</td>\n",
              "      <td>77</td>\n",
              "      <td>22</td>\n",
              "      <td>48.117647</td>\n",
              "      <td>16.773798</td>\n",
              "      <td>0.0</td>\n",
              "      <td>0.0</td>\n",
              "      <td>0.0</td>\n",
              "      <td>-1.0</td>\n",
              "      <td>17</td>\n",
              "      <td>0</td>\n",
              "      <td>0</td>\n",
              "      <td>0</td>\n",
              "      <td>0</td>\n",
              "      <td>0.0</td>\n",
              "      <td>...</td>\n",
              "      <td>4.0</td>\n",
              "      <td>6.0</td>\n",
              "      <td>1.0</td>\n",
              "      <td>3.0</td>\n",
              "      <td>0.0</td>\n",
              "      <td>1.0</td>\n",
              "      <td>2.0</td>\n",
              "      <td>0.0</td>\n",
              "      <td>0.0</td>\n",
              "      <td>0.0</td>\n",
              "      <td>0.0</td>\n",
              "      <td>0.0</td>\n",
              "      <td>0.0</td>\n",
              "      <td>0.0</td>\n",
              "      <td>0.0</td>\n",
              "      <td>0.0</td>\n",
              "      <td>0.0</td>\n",
              "      <td>0.0</td>\n",
              "      <td>13.0</td>\n",
              "      <td>3.0</td>\n",
              "      <td>0.0</td>\n",
              "      <td>0.0</td>\n",
              "      <td>0.0</td>\n",
              "      <td>1.0</td>\n",
              "      <td>0.0</td>\n",
              "      <td>0.0</td>\n",
              "      <td>0.0</td>\n",
              "      <td>1.0</td>\n",
              "      <td>4.0</td>\n",
              "      <td>1.777778</td>\n",
              "      <td>9.0</td>\n",
              "      <td>8.0</td>\n",
              "      <td>8.0</td>\n",
              "      <td>8.000000</td>\n",
              "      <td>1.0</td>\n",
              "      <td>0.268316</td>\n",
              "      <td>0.245260</td>\n",
              "      <td>0.253925</td>\n",
              "      <td>0</td>\n",
              "      <td>0</td>\n",
              "    </tr>\n",
              "  </tbody>\n",
              "</table>\n",
              "<p>5 rows × 146 columns</p>\n",
              "</div>"
            ],
            "text/plain": [
              "   MemberID  ClaimsTruncated  ...  drugcount_nan labcount_nan\n",
              "0  24027423                0  ...              0            0\n",
              "1  98324177                0  ...              0            0\n",
              "2  33899367                1  ...              0            0\n",
              "3   5481382                0  ...              0            0\n",
              "4  69908334                0  ...              0            0\n",
              "\n",
              "[5 rows x 146 columns]"
            ]
          },
          "metadata": {
            "tags": []
          },
          "execution_count": 14
        }
      ]
    },
    {
      "cell_type": "code",
      "metadata": {
        "colab": {
          "base_uri": "https://localhost:8080/",
          "height": 460
        },
        "id": "oJexo6AbZJXr",
        "outputId": "bf29f1c7-d751-4430-9a6c-2a15d31ec421"
      },
      "source": [
        "variable = 'avg_charlsonindex'\r\n",
        "data_y1[[variable, 'DaysInHospital']].plot(variable, 'DaysInHospital', kind='scatter', figsize=(10, 7))"
      ],
      "execution_count": null,
      "outputs": [
        {
          "output_type": "execute_result",
          "data": {
            "text/plain": [
              "<matplotlib.axes._subplots.AxesSubplot at 0x7fa0921928d0>"
            ]
          },
          "metadata": {
            "tags": []
          },
          "execution_count": 15
        },
        {
          "output_type": "display_data",
          "data": {
            "image/png": "[encoded data removed]",
            "text/plain": [
              "<Figure size 720x504 with 1 Axes>"
            ]
          },
          "metadata": {
            "tags": [],
            "needs_background": "light"
          }
        }
      ]
    },
    {
      "cell_type": "code",
      "metadata": {
        "colab": {
          "base_uri": "https://localhost:8080/",
          "height": 106
        },
        "id": "LzA0TcgfZzDJ",
        "outputId": "ff9a4d8f-56d2-490b-ca6a-12398da99475"
      },
      "source": [
        "data_y1[[variable, 'DaysInHospital']].corr()"
      ],
      "execution_count": null,
      "outputs": [
        {
          "output_type": "execute_result",
          "data": {
            "text/html": [
              "<div>\n",
              "<style scoped>\n",
              "    .dataframe tbody tr th:only-of-type {\n",
              "        vertical-align: middle;\n",
              "    }\n",
              "\n",
              "    .dataframe tbody tr th {\n",
              "        vertical-align: top;\n",
              "    }\n",
              "\n",
              "    .dataframe thead th {\n",
              "        text-align: right;\n",
              "    }\n",
              "</style>\n",
              "<table border=\"1\" class=\"dataframe\">\n",
              "  <thead>\n",
              "    <tr style=\"text-align: right;\">\n",
              "      <th></th>\n",
              "      <th>avg_charlsonindex</th>\n",
              "      <th>DaysInHospital</th>\n",
              "    </tr>\n",
              "  </thead>\n",
              "  <tbody>\n",
              "    <tr>\n",
              "      <th>avg_charlsonindex</th>\n",
              "      <td>1.000000</td>\n",
              "      <td>0.145289</td>\n",
              "    </tr>\n",
              "    <tr>\n",
              "      <th>DaysInHospital</th>\n",
              "      <td>0.145289</td>\n",
              "      <td>1.000000</td>\n",
              "    </tr>\n",
              "  </tbody>\n",
              "</table>\n",
              "</div>"
            ],
            "text/plain": [
              "                   avg_charlsonindex  DaysInHospital\n",
              "avg_charlsonindex           1.000000        0.145289\n",
              "DaysInHospital              0.145289        1.000000"
            ]
          },
          "metadata": {
            "tags": []
          },
          "execution_count": 16
        }
      ]
    },
    {
      "cell_type": "markdown",
      "metadata": {
        "id": "Ss4SvyBnAITU"
      },
      "source": [
        "# Some categorical variables:\r\n",
        "- Primary Condition Group\r\n",
        "- Specialty\r\n",
        "- Procedure Group\r\n",
        "- Place of Service"
      ]
    },
    {
      "cell_type": "code",
      "metadata": {
        "id": "qL0NFLw1aMMe"
      },
      "source": [
        "claims_1 = claims[claims['Year']=='Y1'].copy()"
      ],
      "execution_count": null,
      "outputs": []
    },
    {
      "cell_type": "code",
      "metadata": {
        "colab": {
          "base_uri": "https://localhost:8080/",
          "height": 195
        },
        "id": "JBVJGHXbAreR",
        "outputId": "c8c17ffb-3ee8-4a95-8623-4d9d35bd571a"
      },
      "source": [
        "claims_1.head()"
      ],
      "execution_count": null,
      "outputs": [
        {
          "output_type": "execute_result",
          "data": {
            "text/html": [
              "<div>\n",
              "<style scoped>\n",
              "    .dataframe tbody tr th:only-of-type {\n",
              "        vertical-align: middle;\n",
              "    }\n",
              "\n",
              "    .dataframe tbody tr th {\n",
              "        vertical-align: top;\n",
              "    }\n",
              "\n",
              "    .dataframe thead th {\n",
              "        text-align: right;\n",
              "    }\n",
              "</style>\n",
              "<table border=\"1\" class=\"dataframe\">\n",
              "  <thead>\n",
              "    <tr style=\"text-align: right;\">\n",
              "      <th></th>\n",
              "      <th>MemberID</th>\n",
              "      <th>ProviderID</th>\n",
              "      <th>Vendor</th>\n",
              "      <th>PCP</th>\n",
              "      <th>Year</th>\n",
              "      <th>Specialty</th>\n",
              "      <th>PlaceSvc</th>\n",
              "      <th>PayDelay</th>\n",
              "      <th>LengthOfStay</th>\n",
              "      <th>DSFS</th>\n",
              "      <th>PrimaryConditionGroup</th>\n",
              "      <th>CharlsonIndex</th>\n",
              "      <th>ProcedureGroup</th>\n",
              "      <th>SupLOS</th>\n",
              "    </tr>\n",
              "  </thead>\n",
              "  <tbody>\n",
              "    <tr>\n",
              "      <th>0</th>\n",
              "      <td>42286978</td>\n",
              "      <td>8013252.0</td>\n",
              "      <td>172193.0</td>\n",
              "      <td>37796.0</td>\n",
              "      <td>Y1</td>\n",
              "      <td>Surgery</td>\n",
              "      <td>Office</td>\n",
              "      <td>28</td>\n",
              "      <td>NaN</td>\n",
              "      <td>9.0</td>\n",
              "      <td>NEUMENT</td>\n",
              "      <td>0</td>\n",
              "      <td>MED</td>\n",
              "      <td>0</td>\n",
              "    </tr>\n",
              "    <tr>\n",
              "      <th>6</th>\n",
              "      <td>99829076</td>\n",
              "      <td>6721023.0</td>\n",
              "      <td>265273.0</td>\n",
              "      <td>91972.0</td>\n",
              "      <td>Y1</td>\n",
              "      <td>Rehabilitation</td>\n",
              "      <td>Office</td>\n",
              "      <td>162</td>\n",
              "      <td>NaN</td>\n",
              "      <td>1.0</td>\n",
              "      <td>TRAUMA</td>\n",
              "      <td>0</td>\n",
              "      <td>MED</td>\n",
              "      <td>0</td>\n",
              "    </tr>\n",
              "    <tr>\n",
              "      <th>7</th>\n",
              "      <td>54666321</td>\n",
              "      <td>9932074.0</td>\n",
              "      <td>35565.0</td>\n",
              "      <td>27294.0</td>\n",
              "      <td>Y1</td>\n",
              "      <td>Diagnostic Imaging</td>\n",
              "      <td>Office</td>\n",
              "      <td>29</td>\n",
              "      <td>NaN</td>\n",
              "      <td>1.0</td>\n",
              "      <td>RESPR4</td>\n",
              "      <td>0</td>\n",
              "      <td>RAD</td>\n",
              "      <td>0</td>\n",
              "    </tr>\n",
              "    <tr>\n",
              "      <th>11</th>\n",
              "      <td>66951188</td>\n",
              "      <td>4699470.0</td>\n",
              "      <td>179509.0</td>\n",
              "      <td>75876.0</td>\n",
              "      <td>Y1</td>\n",
              "      <td>Diagnostic Imaging</td>\n",
              "      <td>Inpatient Hospital</td>\n",
              "      <td>51</td>\n",
              "      <td>NaN</td>\n",
              "      <td>1.0</td>\n",
              "      <td>ROAMI</td>\n",
              "      <td>0</td>\n",
              "      <td>RAD</td>\n",
              "      <td>0</td>\n",
              "    </tr>\n",
              "    <tr>\n",
              "      <th>12</th>\n",
              "      <td>78859054</td>\n",
              "      <td>9121540.0</td>\n",
              "      <td>523791.0</td>\n",
              "      <td>21579.0</td>\n",
              "      <td>Y1</td>\n",
              "      <td>Emergency</td>\n",
              "      <td>Urgent Care</td>\n",
              "      <td>22</td>\n",
              "      <td>1.0</td>\n",
              "      <td>7.0</td>\n",
              "      <td>HEART2</td>\n",
              "      <td>0</td>\n",
              "      <td>SDS</td>\n",
              "      <td>0</td>\n",
              "    </tr>\n",
              "  </tbody>\n",
              "</table>\n",
              "</div>"
            ],
            "text/plain": [
              "    MemberID  ProviderID    Vendor  ...  CharlsonIndex ProcedureGroup SupLOS\n",
              "0   42286978   8013252.0  172193.0  ...              0            MED      0\n",
              "6   99829076   6721023.0  265273.0  ...              0            MED      0\n",
              "7   54666321   9932074.0   35565.0  ...              0            RAD      0\n",
              "11  66951188   4699470.0  179509.0  ...              0            RAD      0\n",
              "12  78859054   9121540.0  523791.0  ...              0            SDS      0\n",
              "\n",
              "[5 rows x 14 columns]"
            ]
          },
          "metadata": {
            "tags": []
          },
          "execution_count": 18
        }
      ]
    },
    {
      "cell_type": "code",
      "metadata": {
        "colab": {
          "base_uri": "https://localhost:8080/",
          "height": 432
        },
        "id": "9vRhPiXCAtG9",
        "outputId": "5a680274-323b-4494-cd46-86bf9cf9b26d"
      },
      "source": [
        "\"\"\"\r\n",
        "calcualte the percentage of claims that is associated with each values in Specialty, PlaceSvc, PrimaryConditionGroup, ProcedureGroup\r\n",
        "\"\"\"\r\n",
        "def count_dist(col):\r\n",
        "  return col.count() / len(claims_1)\r\n",
        "\r\n",
        "claims_1.groupby('Specialty', as_index=False)['MemberID'].agg(['count', count_dist]).sort_values(by='count_dist', ascending=False)"
      ],
      "execution_count": null,
      "outputs": [
        {
          "output_type": "execute_result",
          "data": {
            "text/html": [
              "<div>\n",
              "<style scoped>\n",
              "    .dataframe tbody tr th:only-of-type {\n",
              "        vertical-align: middle;\n",
              "    }\n",
              "\n",
              "    .dataframe tbody tr th {\n",
              "        vertical-align: top;\n",
              "    }\n",
              "\n",
              "    .dataframe thead th {\n",
              "        text-align: right;\n",
              "    }\n",
              "</style>\n",
              "<table border=\"1\" class=\"dataframe\">\n",
              "  <thead>\n",
              "    <tr style=\"text-align: right;\">\n",
              "      <th></th>\n",
              "      <th>count</th>\n",
              "      <th>count_dist</th>\n",
              "    </tr>\n",
              "    <tr>\n",
              "      <th>Specialty</th>\n",
              "      <th></th>\n",
              "      <th></th>\n",
              "    </tr>\n",
              "  </thead>\n",
              "  <tbody>\n",
              "    <tr>\n",
              "      <th>Laboratory</th>\n",
              "      <td>215039</td>\n",
              "      <td>0.248402</td>\n",
              "    </tr>\n",
              "    <tr>\n",
              "      <th>Internal</th>\n",
              "      <td>210322</td>\n",
              "      <td>0.242953</td>\n",
              "    </tr>\n",
              "    <tr>\n",
              "      <th>General Practice</th>\n",
              "      <td>163192</td>\n",
              "      <td>0.188511</td>\n",
              "    </tr>\n",
              "    <tr>\n",
              "      <th>Diagnostic Imaging</th>\n",
              "      <td>66633</td>\n",
              "      <td>0.076971</td>\n",
              "    </tr>\n",
              "    <tr>\n",
              "      <th>Surgery</th>\n",
              "      <td>65827</td>\n",
              "      <td>0.076040</td>\n",
              "    </tr>\n",
              "    <tr>\n",
              "      <th>Emergency</th>\n",
              "      <td>43131</td>\n",
              "      <td>0.049823</td>\n",
              "    </tr>\n",
              "    <tr>\n",
              "      <th>Other</th>\n",
              "      <td>28230</td>\n",
              "      <td>0.032610</td>\n",
              "    </tr>\n",
              "    <tr>\n",
              "      <th>Pediatrics</th>\n",
              "      <td>27083</td>\n",
              "      <td>0.031285</td>\n",
              "    </tr>\n",
              "    <tr>\n",
              "      <th>Rehabilitation</th>\n",
              "      <td>17189</td>\n",
              "      <td>0.019856</td>\n",
              "    </tr>\n",
              "    <tr>\n",
              "      <th>Obstetrics and Gynecology</th>\n",
              "      <td>12555</td>\n",
              "      <td>0.014503</td>\n",
              "    </tr>\n",
              "    <tr>\n",
              "      <th>Anesthesiology</th>\n",
              "      <td>9746</td>\n",
              "      <td>0.011258</td>\n",
              "    </tr>\n",
              "    <tr>\n",
              "      <th>Pathology</th>\n",
              "      <td>4201</td>\n",
              "      <td>0.004853</td>\n",
              "    </tr>\n",
              "  </tbody>\n",
              "</table>\n",
              "</div>"
            ],
            "text/plain": [
              "                            count  count_dist\n",
              "Specialty                                    \n",
              "Laboratory                 215039    0.248402\n",
              "Internal                   210322    0.242953\n",
              "General Practice           163192    0.188511\n",
              "Diagnostic Imaging          66633    0.076971\n",
              "Surgery                     65827    0.076040\n",
              "Emergency                   43131    0.049823\n",
              "Other                       28230    0.032610\n",
              "Pediatrics                  27083    0.031285\n",
              "Rehabilitation              17189    0.019856\n",
              "Obstetrics and Gynecology   12555    0.014503\n",
              "Anesthesiology               9746    0.011258\n",
              "Pathology                    4201    0.004853"
            ]
          },
          "metadata": {
            "tags": []
          },
          "execution_count": 19
        }
      ]
    },
    {
      "cell_type": "code",
      "metadata": {
        "colab": {
          "base_uri": "https://localhost:8080/",
          "height": 314
        },
        "id": "Arem7Kl3EUSr",
        "outputId": "089a38b5-7019-4c6a-9ba1-9bd37c7cd080"
      },
      "source": [
        "claims_1.groupby('PlaceSvc', as_index=False)['MemberID'].agg(['count', count_dist]).sort_values(by='count_dist', ascending=False)"
      ],
      "execution_count": null,
      "outputs": [
        {
          "output_type": "execute_result",
          "data": {
            "text/html": [
              "<div>\n",
              "<style scoped>\n",
              "    .dataframe tbody tr th:only-of-type {\n",
              "        vertical-align: middle;\n",
              "    }\n",
              "\n",
              "    .dataframe tbody tr th {\n",
              "        vertical-align: top;\n",
              "    }\n",
              "\n",
              "    .dataframe thead th {\n",
              "        text-align: right;\n",
              "    }\n",
              "</style>\n",
              "<table border=\"1\" class=\"dataframe\">\n",
              "  <thead>\n",
              "    <tr style=\"text-align: right;\">\n",
              "      <th></th>\n",
              "      <th>count</th>\n",
              "      <th>count_dist</th>\n",
              "    </tr>\n",
              "    <tr>\n",
              "      <th>PlaceSvc</th>\n",
              "      <th></th>\n",
              "      <th></th>\n",
              "    </tr>\n",
              "  </thead>\n",
              "  <tbody>\n",
              "    <tr>\n",
              "      <th>Office</th>\n",
              "      <td>504806</td>\n",
              "      <td>0.583126</td>\n",
              "    </tr>\n",
              "    <tr>\n",
              "      <th>Independent Lab</th>\n",
              "      <td>216154</td>\n",
              "      <td>0.249690</td>\n",
              "    </tr>\n",
              "    <tr>\n",
              "      <th>Urgent Care</th>\n",
              "      <td>65888</td>\n",
              "      <td>0.076110</td>\n",
              "    </tr>\n",
              "    <tr>\n",
              "      <th>Outpatient Hospital</th>\n",
              "      <td>35814</td>\n",
              "      <td>0.041371</td>\n",
              "    </tr>\n",
              "    <tr>\n",
              "      <th>Inpatient Hospital</th>\n",
              "      <td>26302</td>\n",
              "      <td>0.030383</td>\n",
              "    </tr>\n",
              "    <tr>\n",
              "      <th>Ambulance</th>\n",
              "      <td>8875</td>\n",
              "      <td>0.010252</td>\n",
              "    </tr>\n",
              "    <tr>\n",
              "      <th>Other</th>\n",
              "      <td>3867</td>\n",
              "      <td>0.004467</td>\n",
              "    </tr>\n",
              "    <tr>\n",
              "      <th>Home</th>\n",
              "      <td>1411</td>\n",
              "      <td>0.001630</td>\n",
              "    </tr>\n",
              "  </tbody>\n",
              "</table>\n",
              "</div>"
            ],
            "text/plain": [
              "                      count  count_dist\n",
              "PlaceSvc                               \n",
              "Office               504806    0.583126\n",
              "Independent Lab      216154    0.249690\n",
              "Urgent Care           65888    0.076110\n",
              "Outpatient Hospital   35814    0.041371\n",
              "Inpatient Hospital    26302    0.030383\n",
              "Ambulance              8875    0.010252\n",
              "Other                  3867    0.004467\n",
              "Home                   1411    0.001630"
            ]
          },
          "metadata": {
            "tags": []
          },
          "execution_count": 20
        }
      ]
    },
    {
      "cell_type": "code",
      "metadata": {
        "colab": {
          "base_uri": "https://localhost:8080/",
          "height": 1000
        },
        "id": "ZnAWgAMjEmjH",
        "outputId": "fe5b7ade-9a8f-4741-ce9b-1384c7e2123d"
      },
      "source": [
        "claims_1.groupby('PrimaryConditionGroup', as_index=False)['MemberID'].agg(['count', count_dist]).sort_values(by='count_dist', ascending=False)"
      ],
      "execution_count": null,
      "outputs": [
        {
          "output_type": "execute_result",
          "data": {
            "text/html": [
              "<div>\n",
              "<style scoped>\n",
              "    .dataframe tbody tr th:only-of-type {\n",
              "        vertical-align: middle;\n",
              "    }\n",
              "\n",
              "    .dataframe tbody tr th {\n",
              "        vertical-align: top;\n",
              "    }\n",
              "\n",
              "    .dataframe thead th {\n",
              "        text-align: right;\n",
              "    }\n",
              "</style>\n",
              "<table border=\"1\" class=\"dataframe\">\n",
              "  <thead>\n",
              "    <tr style=\"text-align: right;\">\n",
              "      <th></th>\n",
              "      <th>count</th>\n",
              "      <th>count_dist</th>\n",
              "    </tr>\n",
              "    <tr>\n",
              "      <th>PrimaryConditionGroup</th>\n",
              "      <th></th>\n",
              "      <th></th>\n",
              "    </tr>\n",
              "  </thead>\n",
              "  <tbody>\n",
              "    <tr>\n",
              "      <th>MSC2a3</th>\n",
              "      <td>170683</td>\n",
              "      <td>0.197164</td>\n",
              "    </tr>\n",
              "    <tr>\n",
              "      <th>METAB3</th>\n",
              "      <td>106795</td>\n",
              "      <td>0.123364</td>\n",
              "    </tr>\n",
              "    <tr>\n",
              "      <th>ARTHSPIN</th>\n",
              "      <td>91544</td>\n",
              "      <td>0.105747</td>\n",
              "    </tr>\n",
              "    <tr>\n",
              "      <th>NEUMENT</th>\n",
              "      <td>54984</td>\n",
              "      <td>0.063515</td>\n",
              "    </tr>\n",
              "    <tr>\n",
              "      <th>RESPR4</th>\n",
              "      <td>46232</td>\n",
              "      <td>0.053405</td>\n",
              "    </tr>\n",
              "    <tr>\n",
              "      <th>MISCHRT</th>\n",
              "      <td>39653</td>\n",
              "      <td>0.045805</td>\n",
              "    </tr>\n",
              "    <tr>\n",
              "      <th>SKNAUT</th>\n",
              "      <td>34050</td>\n",
              "      <td>0.039333</td>\n",
              "    </tr>\n",
              "    <tr>\n",
              "      <th>GIBLEED</th>\n",
              "      <td>33946</td>\n",
              "      <td>0.039213</td>\n",
              "    </tr>\n",
              "    <tr>\n",
              "      <th>INFEC4</th>\n",
              "      <td>28126</td>\n",
              "      <td>0.032490</td>\n",
              "    </tr>\n",
              "    <tr>\n",
              "      <th>TRAUMA</th>\n",
              "      <td>25029</td>\n",
              "      <td>0.028912</td>\n",
              "    </tr>\n",
              "    <tr>\n",
              "      <th>HEART2</th>\n",
              "      <td>17897</td>\n",
              "      <td>0.020674</td>\n",
              "    </tr>\n",
              "    <tr>\n",
              "      <th>RENAL3</th>\n",
              "      <td>16412</td>\n",
              "      <td>0.018958</td>\n",
              "    </tr>\n",
              "    <tr>\n",
              "      <th>ROAMI</th>\n",
              "      <td>15758</td>\n",
              "      <td>0.018203</td>\n",
              "    </tr>\n",
              "    <tr>\n",
              "      <th>MISCL5</th>\n",
              "      <td>14791</td>\n",
              "      <td>0.017086</td>\n",
              "    </tr>\n",
              "    <tr>\n",
              "      <th>COPD</th>\n",
              "      <td>14150</td>\n",
              "      <td>0.016345</td>\n",
              "    </tr>\n",
              "    <tr>\n",
              "      <th>ODaBNCA</th>\n",
              "      <td>14000</td>\n",
              "      <td>0.016172</td>\n",
              "    </tr>\n",
              "    <tr>\n",
              "      <th>UTI</th>\n",
              "      <td>13935</td>\n",
              "      <td>0.016097</td>\n",
              "    </tr>\n",
              "    <tr>\n",
              "      <th>GYNEC1</th>\n",
              "      <td>13555</td>\n",
              "      <td>0.015658</td>\n",
              "    </tr>\n",
              "    <tr>\n",
              "      <th>FXDISLC</th>\n",
              "      <td>13421</td>\n",
              "      <td>0.015503</td>\n",
              "    </tr>\n",
              "    <tr>\n",
              "      <th>CANCRB</th>\n",
              "      <td>12812</td>\n",
              "      <td>0.014800</td>\n",
              "    </tr>\n",
              "    <tr>\n",
              "      <th>AMI</th>\n",
              "      <td>11611</td>\n",
              "      <td>0.013412</td>\n",
              "    </tr>\n",
              "    <tr>\n",
              "      <th>PRGNCY</th>\n",
              "      <td>11155</td>\n",
              "      <td>0.012886</td>\n",
              "    </tr>\n",
              "    <tr>\n",
              "      <th>HEMTOL</th>\n",
              "      <td>9438</td>\n",
              "      <td>0.010902</td>\n",
              "    </tr>\n",
              "    <tr>\n",
              "      <th>HEART4</th>\n",
              "      <td>8948</td>\n",
              "      <td>0.010336</td>\n",
              "    </tr>\n",
              "    <tr>\n",
              "      <th>SEIZURE</th>\n",
              "      <td>6607</td>\n",
              "      <td>0.007632</td>\n",
              "    </tr>\n",
              "    <tr>\n",
              "      <th>APPCHOL</th>\n",
              "      <td>5865</td>\n",
              "      <td>0.006775</td>\n",
              "    </tr>\n",
              "    <tr>\n",
              "      <th>CHF</th>\n",
              "      <td>3921</td>\n",
              "      <td>0.004529</td>\n",
              "    </tr>\n",
              "    <tr>\n",
              "      <th>PNEUM</th>\n",
              "      <td>3579</td>\n",
              "      <td>0.004134</td>\n",
              "    </tr>\n",
              "    <tr>\n",
              "      <th>GIOBSENT</th>\n",
              "      <td>3498</td>\n",
              "      <td>0.004041</td>\n",
              "    </tr>\n",
              "    <tr>\n",
              "      <th>GYNECA</th>\n",
              "      <td>3028</td>\n",
              "      <td>0.003498</td>\n",
              "    </tr>\n",
              "    <tr>\n",
              "      <th>STROKE</th>\n",
              "      <td>2889</td>\n",
              "      <td>0.003337</td>\n",
              "    </tr>\n",
              "    <tr>\n",
              "      <th>RENAL2</th>\n",
              "      <td>2650</td>\n",
              "      <td>0.003061</td>\n",
              "    </tr>\n",
              "    <tr>\n",
              "      <th>FLaELEC</th>\n",
              "      <td>1791</td>\n",
              "      <td>0.002069</td>\n",
              "    </tr>\n",
              "    <tr>\n",
              "      <th>MISCL1</th>\n",
              "      <td>1583</td>\n",
              "      <td>0.001829</td>\n",
              "    </tr>\n",
              "    <tr>\n",
              "      <th>CANCRA</th>\n",
              "      <td>1402</td>\n",
              "      <td>0.001620</td>\n",
              "    </tr>\n",
              "    <tr>\n",
              "      <th>HIPFX</th>\n",
              "      <td>1399</td>\n",
              "      <td>0.001616</td>\n",
              "    </tr>\n",
              "    <tr>\n",
              "      <th>METAB1</th>\n",
              "      <td>1288</td>\n",
              "      <td>0.001488</td>\n",
              "    </tr>\n",
              "    <tr>\n",
              "      <th>PERVALV</th>\n",
              "      <td>1068</td>\n",
              "      <td>0.001234</td>\n",
              "    </tr>\n",
              "    <tr>\n",
              "      <th>LIVERDZ</th>\n",
              "      <td>829</td>\n",
              "      <td>0.000958</td>\n",
              "    </tr>\n",
              "    <tr>\n",
              "      <th>CATAST</th>\n",
              "      <td>591</td>\n",
              "      <td>0.000683</td>\n",
              "    </tr>\n",
              "    <tr>\n",
              "      <th>PNCRDZ</th>\n",
              "      <td>310</td>\n",
              "      <td>0.000358</td>\n",
              "    </tr>\n",
              "    <tr>\n",
              "      <th>CANCRM</th>\n",
              "      <td>258</td>\n",
              "      <td>0.000298</td>\n",
              "    </tr>\n",
              "    <tr>\n",
              "      <th>PERINTL</th>\n",
              "      <td>252</td>\n",
              "      <td>0.000291</td>\n",
              "    </tr>\n",
              "    <tr>\n",
              "      <th>RENAL1</th>\n",
              "      <td>130</td>\n",
              "      <td>0.000150</td>\n",
              "    </tr>\n",
              "    <tr>\n",
              "      <th>SEPSIS</th>\n",
              "      <td>114</td>\n",
              "      <td>0.000132</td>\n",
              "    </tr>\n",
              "  </tbody>\n",
              "</table>\n",
              "</div>"
            ],
            "text/plain": [
              "                        count  count_dist\n",
              "PrimaryConditionGroup                    \n",
              "MSC2a3                 170683    0.197164\n",
              "METAB3                 106795    0.123364\n",
              "ARTHSPIN                91544    0.105747\n",
              "NEUMENT                 54984    0.063515\n",
              "RESPR4                  46232    0.053405\n",
              "MISCHRT                 39653    0.045805\n",
              "SKNAUT                  34050    0.039333\n",
              "GIBLEED                 33946    0.039213\n",
              "INFEC4                  28126    0.032490\n",
              "TRAUMA                  25029    0.028912\n",
              "HEART2                  17897    0.020674\n",
              "RENAL3                  16412    0.018958\n",
              "ROAMI                   15758    0.018203\n",
              "MISCL5                  14791    0.017086\n",
              "COPD                    14150    0.016345\n",
              "ODaBNCA                 14000    0.016172\n",
              "UTI                     13935    0.016097\n",
              "GYNEC1                  13555    0.015658\n",
              "FXDISLC                 13421    0.015503\n",
              "CANCRB                  12812    0.014800\n",
              "AMI                     11611    0.013412\n",
              "PRGNCY                  11155    0.012886\n",
              "HEMTOL                   9438    0.010902\n",
              "HEART4                   8948    0.010336\n",
              "SEIZURE                  6607    0.007632\n",
              "APPCHOL                  5865    0.006775\n",
              "CHF                      3921    0.004529\n",
              "PNEUM                    3579    0.004134\n",
              "GIOBSENT                 3498    0.004041\n",
              "GYNECA                   3028    0.003498\n",
              "STROKE                   2889    0.003337\n",
              "RENAL2                   2650    0.003061\n",
              "FLaELEC                  1791    0.002069\n",
              "MISCL1                   1583    0.001829\n",
              "CANCRA                   1402    0.001620\n",
              "HIPFX                    1399    0.001616\n",
              "METAB1                   1288    0.001488\n",
              "PERVALV                  1068    0.001234\n",
              "LIVERDZ                   829    0.000958\n",
              "CATAST                    591    0.000683\n",
              "PNCRDZ                    310    0.000358\n",
              "CANCRM                    258    0.000298\n",
              "PERINTL                   252    0.000291\n",
              "RENAL1                    130    0.000150\n",
              "SEPSIS                    114    0.000132"
            ]
          },
          "metadata": {
            "tags": []
          },
          "execution_count": 21
        }
      ]
    },
    {
      "cell_type": "code",
      "metadata": {
        "colab": {
          "base_uri": "https://localhost:8080/",
          "height": 580
        },
        "id": "k6mBKSN5Es1v",
        "outputId": "7d7cfaab-28db-4290-c5b3-c745d436f60c"
      },
      "source": [
        "claims_1.groupby('ProcedureGroup', as_index=False)['MemberID'].agg(['count', count_dist]).sort_values(by='count_dist', ascending=False)"
      ],
      "execution_count": null,
      "outputs": [
        {
          "output_type": "execute_result",
          "data": {
            "text/html": [
              "<div>\n",
              "<style scoped>\n",
              "    .dataframe tbody tr th:only-of-type {\n",
              "        vertical-align: middle;\n",
              "    }\n",
              "\n",
              "    .dataframe tbody tr th {\n",
              "        vertical-align: top;\n",
              "    }\n",
              "\n",
              "    .dataframe thead th {\n",
              "        text-align: right;\n",
              "    }\n",
              "</style>\n",
              "<table border=\"1\" class=\"dataframe\">\n",
              "  <thead>\n",
              "    <tr style=\"text-align: right;\">\n",
              "      <th></th>\n",
              "      <th>count</th>\n",
              "      <th>count_dist</th>\n",
              "    </tr>\n",
              "    <tr>\n",
              "      <th>ProcedureGroup</th>\n",
              "      <th></th>\n",
              "      <th></th>\n",
              "    </tr>\n",
              "  </thead>\n",
              "  <tbody>\n",
              "    <tr>\n",
              "      <th>EM</th>\n",
              "      <td>343043</td>\n",
              "      <td>0.396266</td>\n",
              "    </tr>\n",
              "    <tr>\n",
              "      <th>PL</th>\n",
              "      <td>161615</td>\n",
              "      <td>0.186689</td>\n",
              "    </tr>\n",
              "    <tr>\n",
              "      <th>MED</th>\n",
              "      <td>118872</td>\n",
              "      <td>0.137315</td>\n",
              "    </tr>\n",
              "    <tr>\n",
              "      <th>SCS</th>\n",
              "      <td>90419</td>\n",
              "      <td>0.104447</td>\n",
              "    </tr>\n",
              "    <tr>\n",
              "      <th>RAD</th>\n",
              "      <td>85093</td>\n",
              "      <td>0.098295</td>\n",
              "    </tr>\n",
              "    <tr>\n",
              "      <th>SDS</th>\n",
              "      <td>19594</td>\n",
              "      <td>0.022634</td>\n",
              "    </tr>\n",
              "    <tr>\n",
              "      <th>SIS</th>\n",
              "      <td>17727</td>\n",
              "      <td>0.020477</td>\n",
              "    </tr>\n",
              "    <tr>\n",
              "      <th>SMS</th>\n",
              "      <td>9122</td>\n",
              "      <td>0.010537</td>\n",
              "    </tr>\n",
              "    <tr>\n",
              "      <th>ANES</th>\n",
              "      <td>5273</td>\n",
              "      <td>0.006091</td>\n",
              "    </tr>\n",
              "    <tr>\n",
              "      <th>SGS</th>\n",
              "      <td>2357</td>\n",
              "      <td>0.002723</td>\n",
              "    </tr>\n",
              "    <tr>\n",
              "      <th>SEOA</th>\n",
              "      <td>2275</td>\n",
              "      <td>0.002628</td>\n",
              "    </tr>\n",
              "    <tr>\n",
              "      <th>SNS</th>\n",
              "      <td>2274</td>\n",
              "      <td>0.002627</td>\n",
              "    </tr>\n",
              "    <tr>\n",
              "      <th>SRS</th>\n",
              "      <td>2056</td>\n",
              "      <td>0.002375</td>\n",
              "    </tr>\n",
              "    <tr>\n",
              "      <th>SAS</th>\n",
              "      <td>1871</td>\n",
              "      <td>0.002161</td>\n",
              "    </tr>\n",
              "    <tr>\n",
              "      <th>SUS</th>\n",
              "      <td>1714</td>\n",
              "      <td>0.001980</td>\n",
              "    </tr>\n",
              "    <tr>\n",
              "      <th>SMCD</th>\n",
              "      <td>1164</td>\n",
              "      <td>0.001345</td>\n",
              "    </tr>\n",
              "    <tr>\n",
              "      <th>SO</th>\n",
              "      <td>98</td>\n",
              "      <td>0.000113</td>\n",
              "    </tr>\n",
              "  </tbody>\n",
              "</table>\n",
              "</div>"
            ],
            "text/plain": [
              "                 count  count_dist\n",
              "ProcedureGroup                    \n",
              "EM              343043    0.396266\n",
              "PL              161615    0.186689\n",
              "MED             118872    0.137315\n",
              "SCS              90419    0.104447\n",
              "RAD              85093    0.098295\n",
              "SDS              19594    0.022634\n",
              "SIS              17727    0.020477\n",
              "SMS               9122    0.010537\n",
              "ANES              5273    0.006091\n",
              "SGS               2357    0.002723\n",
              "SEOA              2275    0.002628\n",
              "SNS               2274    0.002627\n",
              "SRS               2056    0.002375\n",
              "SAS               1871    0.002161\n",
              "SUS               1714    0.001980\n",
              "SMCD              1164    0.001345\n",
              "SO                  98    0.000113"
            ]
          },
          "metadata": {
            "tags": []
          },
          "execution_count": 22
        }
      ]
    },
    {
      "cell_type": "markdown",
      "metadata": {
        "id": "5DgQCeKAFnsK"
      },
      "source": [
        "For instance, the value `Home` in `Specialty` is associated with less than 1% of the total number of claims. We suspect that some of these values are not very useful if applied in our models. Later, we will try to remove some of these values that are not very important to our model."
      ]
    },
    {
      "cell_type": "code",
      "metadata": {
        "id": "V6FPNRttE096",
        "colab": {
          "base_uri": "https://localhost:8080/",
          "height": 296
        },
        "outputId": "24bc7f22-14f9-4c88-b86d-6e6ef07e31a1"
      },
      "source": [
        "dih_y2['DaysInHospital'].hist()\r\n",
        "plt.xlabel('Days in hostpital Y2')\r\n",
        "plt.ylabel('Number of members')"
      ],
      "execution_count": null,
      "outputs": [
        {
          "output_type": "execute_result",
          "data": {
            "text/plain": [
              "Text(0, 0.5, 'Number of members')"
            ]
          },
          "metadata": {
            "tags": []
          },
          "execution_count": 26
        },
        {
          "output_type": "display_data",
          "data": {
            "image/png": "[encoded data removed]",
            "text/plain": [
              "<Figure size 432x288 with 1 Axes>"
            ]
          },
          "metadata": {
            "tags": [],
            "needs_background": "light"
          }
        }
      ]
    },
    {
      "cell_type": "code",
      "metadata": {
        "colab": {
          "base_uri": "https://localhost:8080/",
          "height": 296
        },
        "id": "NWbaET__Sa20",
        "outputId": "d59af1f8-e373-4b5d-8e0c-11c65b1185a6"
      },
      "source": [
        "dih_y3['DaysInHospital'].hist()\r\n",
        "plt.xlabel('Days in hostpital Y3')\r\n",
        "plt.ylabel('Number of members')"
      ],
      "execution_count": null,
      "outputs": [
        {
          "output_type": "execute_result",
          "data": {
            "text/plain": [
              "Text(0, 0.5, 'Number of members')"
            ]
          },
          "metadata": {
            "tags": []
          },
          "execution_count": 27
        },
        {
          "output_type": "display_data",
          "data": {
            "image/png": "[encoded data removed]",
            "text/plain": [
              "<Figure size 432x288 with 1 Axes>"
            ]
          },
          "metadata": {
            "tags": [],
            "needs_background": "light"
          }
        }
      ]
    },
    {
      "cell_type": "code",
      "metadata": {
        "colab": {
          "base_uri": "https://localhost:8080/",
          "height": 284
        },
        "id": "-oJTxh79SdWs",
        "outputId": "1cd1f5a7-66b3-4e93-866f-77ee66d66370"
      },
      "source": [
        "target_desc = pd.concat([dih_y2['DaysInHospital'].describe(), dih_y3['DaysInHospital'].describe()], axis=1)\r\n",
        "target_desc.columns = ['Year 2', 'Year 3']\r\n",
        "target_desc"
      ],
      "execution_count": null,
      "outputs": [
        {
          "output_type": "execute_result",
          "data": {
            "text/html": [
              "<div>\n",
              "<style scoped>\n",
              "    .dataframe tbody tr th:only-of-type {\n",
              "        vertical-align: middle;\n",
              "    }\n",
              "\n",
              "    .dataframe tbody tr th {\n",
              "        vertical-align: top;\n",
              "    }\n",
              "\n",
              "    .dataframe thead th {\n",
              "        text-align: right;\n",
              "    }\n",
              "</style>\n",
              "<table border=\"1\" class=\"dataframe\">\n",
              "  <thead>\n",
              "    <tr style=\"text-align: right;\">\n",
              "      <th></th>\n",
              "      <th>Year 2</th>\n",
              "      <th>Year 3</th>\n",
              "    </tr>\n",
              "  </thead>\n",
              "  <tbody>\n",
              "    <tr>\n",
              "      <th>count</th>\n",
              "      <td>76038.000000</td>\n",
              "      <td>71435.000000</td>\n",
              "    </tr>\n",
              "    <tr>\n",
              "      <th>mean</th>\n",
              "      <td>0.467095</td>\n",
              "      <td>0.437895</td>\n",
              "    </tr>\n",
              "    <tr>\n",
              "      <th>std</th>\n",
              "      <td>1.612194</td>\n",
              "      <td>1.531780</td>\n",
              "    </tr>\n",
              "    <tr>\n",
              "      <th>min</th>\n",
              "      <td>0.000000</td>\n",
              "      <td>0.000000</td>\n",
              "    </tr>\n",
              "    <tr>\n",
              "      <th>25%</th>\n",
              "      <td>0.000000</td>\n",
              "      <td>0.000000</td>\n",
              "    </tr>\n",
              "    <tr>\n",
              "      <th>50%</th>\n",
              "      <td>0.000000</td>\n",
              "      <td>0.000000</td>\n",
              "    </tr>\n",
              "    <tr>\n",
              "      <th>75%</th>\n",
              "      <td>0.000000</td>\n",
              "      <td>0.000000</td>\n",
              "    </tr>\n",
              "    <tr>\n",
              "      <th>max</th>\n",
              "      <td>15.000000</td>\n",
              "      <td>15.000000</td>\n",
              "    </tr>\n",
              "  </tbody>\n",
              "</table>\n",
              "</div>"
            ],
            "text/plain": [
              "             Year 2        Year 3\n",
              "count  76038.000000  71435.000000\n",
              "mean       0.467095      0.437895\n",
              "std        1.612194      1.531780\n",
              "min        0.000000      0.000000\n",
              "25%        0.000000      0.000000\n",
              "50%        0.000000      0.000000\n",
              "75%        0.000000      0.000000\n",
              "max       15.000000     15.000000"
            ]
          },
          "metadata": {
            "tags": []
          },
          "execution_count": 41
        }
      ]
    },
    {
      "cell_type": "code",
      "metadata": {
        "colab": {
          "base_uri": "https://localhost:8080/"
        },
        "id": "6SD5L_99VN-o",
        "outputId": "f261167e-4c5e-4ce3-e446-0a3302f0a9a3"
      },
      "source": [
        "dih_y3['DaysInHospital'].describe()"
      ],
      "execution_count": null,
      "outputs": [
        {
          "output_type": "execute_result",
          "data": {
            "text/plain": [
              "count    71435.000000\n",
              "mean         0.437895\n",
              "std          1.531780\n",
              "min          0.000000\n",
              "25%          0.000000\n",
              "50%          0.000000\n",
              "75%          0.000000\n",
              "max         15.000000\n",
              "Name: DaysInHospital, dtype: float64"
            ]
          },
          "metadata": {
            "tags": []
          },
          "execution_count": 30
        }
      ]
    },
    {
      "cell_type": "code",
      "metadata": {
        "id": "U7fx-iv4VQJf"
      },
      "source": [
        ""
      ],
      "execution_count": null,
      "outputs": []
    }
  ]
}